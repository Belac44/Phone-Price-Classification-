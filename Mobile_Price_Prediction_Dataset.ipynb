{
  "cells": [
    {
      "cell_type": "markdown",
      "metadata": {
        "id": "view-in-github",
        "colab_type": "text"
      },
      "source": [
        "<a href=\"https://colab.research.google.com/github/Belac44/Phone-Price-Classification-/blob/main/Mobile_Price_Prediction_Dataset.ipynb\" target=\"_parent\"><img src=\"https://colab.research.google.com/assets/colab-badge.svg\" alt=\"Open In Colab\"/></a>"
      ]
    },
    {
      "cell_type": "code",
      "execution_count": null,
      "id": "ad18ab10",
      "metadata": {
        "id": "ad18ab10"
      },
      "outputs": [],
      "source": [
        "import numpy as np\n",
        "import pandas as pd\n",
        "\n",
        "import matplotlib.pyplot as plt\n",
        "import seaborn as sns\n",
        "import matplotlib\n",
        "\n",
        "import warnings\n",
        "warnings.filterwarnings(\"ignore\")"
      ]
    },
    {
      "cell_type": "code",
      "execution_count": null,
      "id": "03aad44f",
      "metadata": {
        "id": "03aad44f",
        "outputId": "0c946787-4c58-4e44-da4b-030a5791d278"
      },
      "outputs": [
        {
          "data": {
            "text/plain": [
              "(2000, 21)"
            ]
          },
          "execution_count": 2,
          "metadata": {},
          "output_type": "execute_result"
        }
      ],
      "source": [
        "df = pd.read_csv('mobile_dataset.csv')\n",
        "df.shape"
      ]
    },
    {
      "cell_type": "markdown",
      "id": "025b4566",
      "metadata": {
        "id": "025b4566"
      },
      "source": [
        "## Exploratory Data Analysis"
      ]
    },
    {
      "cell_type": "code",
      "execution_count": null,
      "id": "1a6019b0",
      "metadata": {
        "id": "1a6019b0",
        "outputId": "03bbe60f-abd6-4a6c-936d-d6c07f02eea6"
      },
      "outputs": [
        {
          "data": {
            "text/html": [
              "<div>\n",
              "<style scoped>\n",
              "    .dataframe tbody tr th:only-of-type {\n",
              "        vertical-align: middle;\n",
              "    }\n",
              "\n",
              "    .dataframe tbody tr th {\n",
              "        vertical-align: top;\n",
              "    }\n",
              "\n",
              "    .dataframe thead th {\n",
              "        text-align: right;\n",
              "    }\n",
              "</style>\n",
              "<table border=\"1\" class=\"dataframe\">\n",
              "  <thead>\n",
              "    <tr style=\"text-align: right;\">\n",
              "      <th></th>\n",
              "      <th>battery_power</th>\n",
              "      <th>blue</th>\n",
              "      <th>clock_speed</th>\n",
              "      <th>dual_sim</th>\n",
              "      <th>fc</th>\n",
              "      <th>four_g</th>\n",
              "      <th>int_memory</th>\n",
              "      <th>m_dep</th>\n",
              "      <th>mobile_wt</th>\n",
              "      <th>n_cores</th>\n",
              "      <th>...</th>\n",
              "      <th>px_height</th>\n",
              "      <th>px_width</th>\n",
              "      <th>ram</th>\n",
              "      <th>sc_h</th>\n",
              "      <th>sc_w</th>\n",
              "      <th>talk_time</th>\n",
              "      <th>three_g</th>\n",
              "      <th>touch_screen</th>\n",
              "      <th>wifi</th>\n",
              "      <th>price_range</th>\n",
              "    </tr>\n",
              "  </thead>\n",
              "  <tbody>\n",
              "    <tr>\n",
              "      <th>0</th>\n",
              "      <td>842</td>\n",
              "      <td>0</td>\n",
              "      <td>2.2</td>\n",
              "      <td>0</td>\n",
              "      <td>1</td>\n",
              "      <td>0</td>\n",
              "      <td>7</td>\n",
              "      <td>0.6</td>\n",
              "      <td>188</td>\n",
              "      <td>2</td>\n",
              "      <td>...</td>\n",
              "      <td>20</td>\n",
              "      <td>756</td>\n",
              "      <td>2549</td>\n",
              "      <td>9</td>\n",
              "      <td>7</td>\n",
              "      <td>19</td>\n",
              "      <td>0</td>\n",
              "      <td>0</td>\n",
              "      <td>1</td>\n",
              "      <td>1</td>\n",
              "    </tr>\n",
              "    <tr>\n",
              "      <th>1</th>\n",
              "      <td>1021</td>\n",
              "      <td>1</td>\n",
              "      <td>0.5</td>\n",
              "      <td>1</td>\n",
              "      <td>0</td>\n",
              "      <td>1</td>\n",
              "      <td>53</td>\n",
              "      <td>0.7</td>\n",
              "      <td>136</td>\n",
              "      <td>3</td>\n",
              "      <td>...</td>\n",
              "      <td>905</td>\n",
              "      <td>1988</td>\n",
              "      <td>2631</td>\n",
              "      <td>17</td>\n",
              "      <td>3</td>\n",
              "      <td>7</td>\n",
              "      <td>1</td>\n",
              "      <td>1</td>\n",
              "      <td>0</td>\n",
              "      <td>2</td>\n",
              "    </tr>\n",
              "    <tr>\n",
              "      <th>2</th>\n",
              "      <td>563</td>\n",
              "      <td>1</td>\n",
              "      <td>0.5</td>\n",
              "      <td>1</td>\n",
              "      <td>2</td>\n",
              "      <td>1</td>\n",
              "      <td>41</td>\n",
              "      <td>0.9</td>\n",
              "      <td>145</td>\n",
              "      <td>5</td>\n",
              "      <td>...</td>\n",
              "      <td>1263</td>\n",
              "      <td>1716</td>\n",
              "      <td>2603</td>\n",
              "      <td>11</td>\n",
              "      <td>2</td>\n",
              "      <td>9</td>\n",
              "      <td>1</td>\n",
              "      <td>1</td>\n",
              "      <td>0</td>\n",
              "      <td>2</td>\n",
              "    </tr>\n",
              "    <tr>\n",
              "      <th>3</th>\n",
              "      <td>615</td>\n",
              "      <td>1</td>\n",
              "      <td>2.5</td>\n",
              "      <td>0</td>\n",
              "      <td>0</td>\n",
              "      <td>0</td>\n",
              "      <td>10</td>\n",
              "      <td>0.8</td>\n",
              "      <td>131</td>\n",
              "      <td>6</td>\n",
              "      <td>...</td>\n",
              "      <td>1216</td>\n",
              "      <td>1786</td>\n",
              "      <td>2769</td>\n",
              "      <td>16</td>\n",
              "      <td>8</td>\n",
              "      <td>11</td>\n",
              "      <td>1</td>\n",
              "      <td>0</td>\n",
              "      <td>0</td>\n",
              "      <td>2</td>\n",
              "    </tr>\n",
              "    <tr>\n",
              "      <th>4</th>\n",
              "      <td>1821</td>\n",
              "      <td>1</td>\n",
              "      <td>1.2</td>\n",
              "      <td>0</td>\n",
              "      <td>13</td>\n",
              "      <td>1</td>\n",
              "      <td>44</td>\n",
              "      <td>0.6</td>\n",
              "      <td>141</td>\n",
              "      <td>2</td>\n",
              "      <td>...</td>\n",
              "      <td>1208</td>\n",
              "      <td>1212</td>\n",
              "      <td>1411</td>\n",
              "      <td>8</td>\n",
              "      <td>2</td>\n",
              "      <td>15</td>\n",
              "      <td>1</td>\n",
              "      <td>1</td>\n",
              "      <td>0</td>\n",
              "      <td>1</td>\n",
              "    </tr>\n",
              "  </tbody>\n",
              "</table>\n",
              "<p>5 rows × 21 columns</p>\n",
              "</div>"
            ],
            "text/plain": [
              "   battery_power  blue  clock_speed  dual_sim  fc  four_g  int_memory  m_dep  \\\n",
              "0            842     0          2.2         0   1       0           7    0.6   \n",
              "1           1021     1          0.5         1   0       1          53    0.7   \n",
              "2            563     1          0.5         1   2       1          41    0.9   \n",
              "3            615     1          2.5         0   0       0          10    0.8   \n",
              "4           1821     1          1.2         0  13       1          44    0.6   \n",
              "\n",
              "   mobile_wt  n_cores  ...  px_height  px_width   ram  sc_h  sc_w  talk_time  \\\n",
              "0        188        2  ...         20       756  2549     9     7         19   \n",
              "1        136        3  ...        905      1988  2631    17     3          7   \n",
              "2        145        5  ...       1263      1716  2603    11     2          9   \n",
              "3        131        6  ...       1216      1786  2769    16     8         11   \n",
              "4        141        2  ...       1208      1212  1411     8     2         15   \n",
              "\n",
              "   three_g  touch_screen  wifi  price_range  \n",
              "0        0             0     1            1  \n",
              "1        1             1     0            2  \n",
              "2        1             1     0            2  \n",
              "3        1             0     0            2  \n",
              "4        1             1     0            1  \n",
              "\n",
              "[5 rows x 21 columns]"
            ]
          },
          "execution_count": 3,
          "metadata": {},
          "output_type": "execute_result"
        }
      ],
      "source": [
        "df.head()"
      ]
    },
    {
      "cell_type": "code",
      "execution_count": null,
      "id": "0c1dcd32",
      "metadata": {
        "id": "0c1dcd32",
        "outputId": "5d29d7b3-fe1d-48a0-b4ad-94ed04e197d1"
      },
      "outputs": [
        {
          "name": "stdout",
          "output_type": "stream",
          "text": [
            "<class 'pandas.core.frame.DataFrame'>\n",
            "RangeIndex: 2000 entries, 0 to 1999\n",
            "Data columns (total 21 columns):\n",
            " #   Column         Non-Null Count  Dtype  \n",
            "---  ------         --------------  -----  \n",
            " 0   battery_power  2000 non-null   int64  \n",
            " 1   blue           2000 non-null   int64  \n",
            " 2   clock_speed    2000 non-null   float64\n",
            " 3   dual_sim       2000 non-null   int64  \n",
            " 4   fc             2000 non-null   int64  \n",
            " 5   four_g         2000 non-null   int64  \n",
            " 6   int_memory     2000 non-null   int64  \n",
            " 7   m_dep          2000 non-null   float64\n",
            " 8   mobile_wt      2000 non-null   int64  \n",
            " 9   n_cores        2000 non-null   int64  \n",
            " 10  pc             2000 non-null   int64  \n",
            " 11  px_height      2000 non-null   int64  \n",
            " 12  px_width       2000 non-null   int64  \n",
            " 13  ram            2000 non-null   int64  \n",
            " 14  sc_h           2000 non-null   int64  \n",
            " 15  sc_w           2000 non-null   int64  \n",
            " 16  talk_time      2000 non-null   int64  \n",
            " 17  three_g        2000 non-null   int64  \n",
            " 18  touch_screen   2000 non-null   int64  \n",
            " 19  wifi           2000 non-null   int64  \n",
            " 20  price_range    2000 non-null   int64  \n",
            "dtypes: float64(2), int64(19)\n",
            "memory usage: 328.2 KB\n"
          ]
        }
      ],
      "source": [
        "df.info()"
      ]
    },
    {
      "cell_type": "code",
      "execution_count": null,
      "id": "81f2fdc9",
      "metadata": {
        "id": "81f2fdc9"
      },
      "outputs": [],
      "source": [
        "# There are no missing values.\n",
        "# There are no objects\n",
        "# All our features are numerical"
      ]
    },
    {
      "cell_type": "code",
      "execution_count": null,
      "id": "c42f4139",
      "metadata": {
        "id": "c42f4139",
        "outputId": "aed63aed-017e-4eeb-e61f-87fe923f85d8"
      },
      "outputs": [
        {
          "data": {
            "text/html": [
              "<div>\n",
              "<style scoped>\n",
              "    .dataframe tbody tr th:only-of-type {\n",
              "        vertical-align: middle;\n",
              "    }\n",
              "\n",
              "    .dataframe tbody tr th {\n",
              "        vertical-align: top;\n",
              "    }\n",
              "\n",
              "    .dataframe thead th {\n",
              "        text-align: right;\n",
              "    }\n",
              "</style>\n",
              "<table border=\"1\" class=\"dataframe\">\n",
              "  <thead>\n",
              "    <tr style=\"text-align: right;\">\n",
              "      <th></th>\n",
              "      <th>battery_power</th>\n",
              "      <th>blue</th>\n",
              "      <th>clock_speed</th>\n",
              "      <th>dual_sim</th>\n",
              "      <th>fc</th>\n",
              "      <th>four_g</th>\n",
              "      <th>int_memory</th>\n",
              "      <th>m_dep</th>\n",
              "      <th>mobile_wt</th>\n",
              "      <th>n_cores</th>\n",
              "      <th>...</th>\n",
              "      <th>px_height</th>\n",
              "      <th>px_width</th>\n",
              "      <th>ram</th>\n",
              "      <th>sc_h</th>\n",
              "      <th>sc_w</th>\n",
              "      <th>talk_time</th>\n",
              "      <th>three_g</th>\n",
              "      <th>touch_screen</th>\n",
              "      <th>wifi</th>\n",
              "      <th>price_range</th>\n",
              "    </tr>\n",
              "  </thead>\n",
              "  <tbody>\n",
              "    <tr>\n",
              "      <th>count</th>\n",
              "      <td>2000.000000</td>\n",
              "      <td>2000.0000</td>\n",
              "      <td>2000.000000</td>\n",
              "      <td>2000.000000</td>\n",
              "      <td>2000.000000</td>\n",
              "      <td>2000.000000</td>\n",
              "      <td>2000.000000</td>\n",
              "      <td>2000.000000</td>\n",
              "      <td>2000.000000</td>\n",
              "      <td>2000.000000</td>\n",
              "      <td>...</td>\n",
              "      <td>2000.000000</td>\n",
              "      <td>2000.000000</td>\n",
              "      <td>2000.000000</td>\n",
              "      <td>2000.000000</td>\n",
              "      <td>2000.000000</td>\n",
              "      <td>2000.000000</td>\n",
              "      <td>2000.000000</td>\n",
              "      <td>2000.000000</td>\n",
              "      <td>2000.000000</td>\n",
              "      <td>2000.000000</td>\n",
              "    </tr>\n",
              "    <tr>\n",
              "      <th>mean</th>\n",
              "      <td>1238.518500</td>\n",
              "      <td>0.4950</td>\n",
              "      <td>1.522250</td>\n",
              "      <td>0.509500</td>\n",
              "      <td>4.309500</td>\n",
              "      <td>0.521500</td>\n",
              "      <td>32.046500</td>\n",
              "      <td>0.501750</td>\n",
              "      <td>140.249000</td>\n",
              "      <td>4.520500</td>\n",
              "      <td>...</td>\n",
              "      <td>645.108000</td>\n",
              "      <td>1251.515500</td>\n",
              "      <td>2124.213000</td>\n",
              "      <td>12.306500</td>\n",
              "      <td>5.767000</td>\n",
              "      <td>11.011000</td>\n",
              "      <td>0.761500</td>\n",
              "      <td>0.503000</td>\n",
              "      <td>0.507000</td>\n",
              "      <td>1.500000</td>\n",
              "    </tr>\n",
              "    <tr>\n",
              "      <th>std</th>\n",
              "      <td>439.418206</td>\n",
              "      <td>0.5001</td>\n",
              "      <td>0.816004</td>\n",
              "      <td>0.500035</td>\n",
              "      <td>4.341444</td>\n",
              "      <td>0.499662</td>\n",
              "      <td>18.145715</td>\n",
              "      <td>0.288416</td>\n",
              "      <td>35.399655</td>\n",
              "      <td>2.287837</td>\n",
              "      <td>...</td>\n",
              "      <td>443.780811</td>\n",
              "      <td>432.199447</td>\n",
              "      <td>1084.732044</td>\n",
              "      <td>4.213245</td>\n",
              "      <td>4.356398</td>\n",
              "      <td>5.463955</td>\n",
              "      <td>0.426273</td>\n",
              "      <td>0.500116</td>\n",
              "      <td>0.500076</td>\n",
              "      <td>1.118314</td>\n",
              "    </tr>\n",
              "    <tr>\n",
              "      <th>min</th>\n",
              "      <td>501.000000</td>\n",
              "      <td>0.0000</td>\n",
              "      <td>0.500000</td>\n",
              "      <td>0.000000</td>\n",
              "      <td>0.000000</td>\n",
              "      <td>0.000000</td>\n",
              "      <td>2.000000</td>\n",
              "      <td>0.100000</td>\n",
              "      <td>80.000000</td>\n",
              "      <td>1.000000</td>\n",
              "      <td>...</td>\n",
              "      <td>0.000000</td>\n",
              "      <td>500.000000</td>\n",
              "      <td>256.000000</td>\n",
              "      <td>5.000000</td>\n",
              "      <td>0.000000</td>\n",
              "      <td>2.000000</td>\n",
              "      <td>0.000000</td>\n",
              "      <td>0.000000</td>\n",
              "      <td>0.000000</td>\n",
              "      <td>0.000000</td>\n",
              "    </tr>\n",
              "    <tr>\n",
              "      <th>25%</th>\n",
              "      <td>851.750000</td>\n",
              "      <td>0.0000</td>\n",
              "      <td>0.700000</td>\n",
              "      <td>0.000000</td>\n",
              "      <td>1.000000</td>\n",
              "      <td>0.000000</td>\n",
              "      <td>16.000000</td>\n",
              "      <td>0.200000</td>\n",
              "      <td>109.000000</td>\n",
              "      <td>3.000000</td>\n",
              "      <td>...</td>\n",
              "      <td>282.750000</td>\n",
              "      <td>874.750000</td>\n",
              "      <td>1207.500000</td>\n",
              "      <td>9.000000</td>\n",
              "      <td>2.000000</td>\n",
              "      <td>6.000000</td>\n",
              "      <td>1.000000</td>\n",
              "      <td>0.000000</td>\n",
              "      <td>0.000000</td>\n",
              "      <td>0.750000</td>\n",
              "    </tr>\n",
              "    <tr>\n",
              "      <th>50%</th>\n",
              "      <td>1226.000000</td>\n",
              "      <td>0.0000</td>\n",
              "      <td>1.500000</td>\n",
              "      <td>1.000000</td>\n",
              "      <td>3.000000</td>\n",
              "      <td>1.000000</td>\n",
              "      <td>32.000000</td>\n",
              "      <td>0.500000</td>\n",
              "      <td>141.000000</td>\n",
              "      <td>4.000000</td>\n",
              "      <td>...</td>\n",
              "      <td>564.000000</td>\n",
              "      <td>1247.000000</td>\n",
              "      <td>2146.500000</td>\n",
              "      <td>12.000000</td>\n",
              "      <td>5.000000</td>\n",
              "      <td>11.000000</td>\n",
              "      <td>1.000000</td>\n",
              "      <td>1.000000</td>\n",
              "      <td>1.000000</td>\n",
              "      <td>1.500000</td>\n",
              "    </tr>\n",
              "    <tr>\n",
              "      <th>75%</th>\n",
              "      <td>1615.250000</td>\n",
              "      <td>1.0000</td>\n",
              "      <td>2.200000</td>\n",
              "      <td>1.000000</td>\n",
              "      <td>7.000000</td>\n",
              "      <td>1.000000</td>\n",
              "      <td>48.000000</td>\n",
              "      <td>0.800000</td>\n",
              "      <td>170.000000</td>\n",
              "      <td>7.000000</td>\n",
              "      <td>...</td>\n",
              "      <td>947.250000</td>\n",
              "      <td>1633.000000</td>\n",
              "      <td>3064.500000</td>\n",
              "      <td>16.000000</td>\n",
              "      <td>9.000000</td>\n",
              "      <td>16.000000</td>\n",
              "      <td>1.000000</td>\n",
              "      <td>1.000000</td>\n",
              "      <td>1.000000</td>\n",
              "      <td>2.250000</td>\n",
              "    </tr>\n",
              "    <tr>\n",
              "      <th>max</th>\n",
              "      <td>1998.000000</td>\n",
              "      <td>1.0000</td>\n",
              "      <td>3.000000</td>\n",
              "      <td>1.000000</td>\n",
              "      <td>19.000000</td>\n",
              "      <td>1.000000</td>\n",
              "      <td>64.000000</td>\n",
              "      <td>1.000000</td>\n",
              "      <td>200.000000</td>\n",
              "      <td>8.000000</td>\n",
              "      <td>...</td>\n",
              "      <td>1960.000000</td>\n",
              "      <td>1998.000000</td>\n",
              "      <td>3998.000000</td>\n",
              "      <td>19.000000</td>\n",
              "      <td>18.000000</td>\n",
              "      <td>20.000000</td>\n",
              "      <td>1.000000</td>\n",
              "      <td>1.000000</td>\n",
              "      <td>1.000000</td>\n",
              "      <td>3.000000</td>\n",
              "    </tr>\n",
              "  </tbody>\n",
              "</table>\n",
              "<p>8 rows × 21 columns</p>\n",
              "</div>"
            ],
            "text/plain": [
              "       battery_power       blue  clock_speed     dual_sim           fc  \\\n",
              "count    2000.000000  2000.0000  2000.000000  2000.000000  2000.000000   \n",
              "mean     1238.518500     0.4950     1.522250     0.509500     4.309500   \n",
              "std       439.418206     0.5001     0.816004     0.500035     4.341444   \n",
              "min       501.000000     0.0000     0.500000     0.000000     0.000000   \n",
              "25%       851.750000     0.0000     0.700000     0.000000     1.000000   \n",
              "50%      1226.000000     0.0000     1.500000     1.000000     3.000000   \n",
              "75%      1615.250000     1.0000     2.200000     1.000000     7.000000   \n",
              "max      1998.000000     1.0000     3.000000     1.000000    19.000000   \n",
              "\n",
              "            four_g   int_memory        m_dep    mobile_wt      n_cores  ...  \\\n",
              "count  2000.000000  2000.000000  2000.000000  2000.000000  2000.000000  ...   \n",
              "mean      0.521500    32.046500     0.501750   140.249000     4.520500  ...   \n",
              "std       0.499662    18.145715     0.288416    35.399655     2.287837  ...   \n",
              "min       0.000000     2.000000     0.100000    80.000000     1.000000  ...   \n",
              "25%       0.000000    16.000000     0.200000   109.000000     3.000000  ...   \n",
              "50%       1.000000    32.000000     0.500000   141.000000     4.000000  ...   \n",
              "75%       1.000000    48.000000     0.800000   170.000000     7.000000  ...   \n",
              "max       1.000000    64.000000     1.000000   200.000000     8.000000  ...   \n",
              "\n",
              "         px_height     px_width          ram         sc_h         sc_w  \\\n",
              "count  2000.000000  2000.000000  2000.000000  2000.000000  2000.000000   \n",
              "mean    645.108000  1251.515500  2124.213000    12.306500     5.767000   \n",
              "std     443.780811   432.199447  1084.732044     4.213245     4.356398   \n",
              "min       0.000000   500.000000   256.000000     5.000000     0.000000   \n",
              "25%     282.750000   874.750000  1207.500000     9.000000     2.000000   \n",
              "50%     564.000000  1247.000000  2146.500000    12.000000     5.000000   \n",
              "75%     947.250000  1633.000000  3064.500000    16.000000     9.000000   \n",
              "max    1960.000000  1998.000000  3998.000000    19.000000    18.000000   \n",
              "\n",
              "         talk_time      three_g  touch_screen         wifi  price_range  \n",
              "count  2000.000000  2000.000000   2000.000000  2000.000000  2000.000000  \n",
              "mean     11.011000     0.761500      0.503000     0.507000     1.500000  \n",
              "std       5.463955     0.426273      0.500116     0.500076     1.118314  \n",
              "min       2.000000     0.000000      0.000000     0.000000     0.000000  \n",
              "25%       6.000000     1.000000      0.000000     0.000000     0.750000  \n",
              "50%      11.000000     1.000000      1.000000     1.000000     1.500000  \n",
              "75%      16.000000     1.000000      1.000000     1.000000     2.250000  \n",
              "max      20.000000     1.000000      1.000000     1.000000     3.000000  \n",
              "\n",
              "[8 rows x 21 columns]"
            ]
          },
          "execution_count": 6,
          "metadata": {},
          "output_type": "execute_result"
        }
      ],
      "source": [
        "df.describe()"
      ]
    },
    {
      "cell_type": "code",
      "execution_count": null,
      "id": "ba63a956",
      "metadata": {
        "id": "ba63a956",
        "outputId": "1a839123-6eb2-4ba7-f2d6-ef11ba7ae799"
      },
      "outputs": [
        {
          "data": {
            "text/plain": [
              "[1872    6\n",
              " 1589    6\n",
              " 618     6\n",
              " 1413    5\n",
              " 1715    5\n",
              "        ..\n",
              " 1199    1\n",
              " 1202    1\n",
              " 1203    1\n",
              " 1204    1\n",
              " 1998    1\n",
              " Name: battery_power, Length: 1094, dtype: int64,\n",
              " 0    1010\n",
              " 1     990\n",
              " Name: blue, dtype: int64,\n",
              " 0.5    413\n",
              " 2.8     85\n",
              " 2.3     78\n",
              " 2.1     76\n",
              " 1.6     76\n",
              " 2.5     74\n",
              " 0.6     74\n",
              " 1.4     70\n",
              " 1.3     68\n",
              " 2.0     67\n",
              " 1.5     67\n",
              " 1.9     65\n",
              " 0.7     64\n",
              " 2.9     62\n",
              " 1.8     62\n",
              " 1.0     61\n",
              " 1.7     60\n",
              " 2.2     59\n",
              " 2.4     58\n",
              " 0.8     58\n",
              " 0.9     58\n",
              " 1.2     56\n",
              " 2.6     55\n",
              " 2.7     55\n",
              " 1.1     51\n",
              " 3.0     28\n",
              " Name: clock_speed, dtype: int64,\n",
              " 1    1019\n",
              " 0     981\n",
              " Name: dual_sim, dtype: int64,\n",
              " 0     474\n",
              " 1     245\n",
              " 2     189\n",
              " 3     170\n",
              " 5     139\n",
              " 4     133\n",
              " 6     112\n",
              " 7     100\n",
              " 9      78\n",
              " 8      77\n",
              " 10     62\n",
              " 11     51\n",
              " 12     45\n",
              " 13     40\n",
              " 16     24\n",
              " 15     23\n",
              " 14     20\n",
              " 18     11\n",
              " 17      6\n",
              " 19      1\n",
              " Name: fc, dtype: int64,\n",
              " 1    1043\n",
              " 0     957\n",
              " Name: four_g, dtype: int64,\n",
              " 27    47\n",
              " 16    45\n",
              " 14    45\n",
              " 2     42\n",
              " 57    42\n",
              "       ..\n",
              " 25    24\n",
              " 38    23\n",
              " 62    21\n",
              " 4     20\n",
              " 59    18\n",
              " Name: int_memory, Length: 63, dtype: int64,\n",
              " 0.1    320\n",
              " 0.2    213\n",
              " 0.8    208\n",
              " 0.5    205\n",
              " 0.7    200\n",
              " 0.3    199\n",
              " 0.9    195\n",
              " 0.6    186\n",
              " 0.4    168\n",
              " 1.0    106\n",
              " Name: m_dep, dtype: int64,\n",
              " 182    28\n",
              " 101    27\n",
              " 185    27\n",
              " 199    26\n",
              " 146    26\n",
              "        ..\n",
              " 116    10\n",
              " 120     9\n",
              " 96      9\n",
              " 149     9\n",
              " 140     9\n",
              " Name: mobile_wt, Length: 121, dtype: int64,\n",
              " 4    274\n",
              " 7    259\n",
              " 8    256\n",
              " 2    247\n",
              " 3    246\n",
              " 5    246\n",
              " 1    242\n",
              " 6    230\n",
              " Name: n_cores, dtype: int64,\n",
              " 10    122\n",
              " 7     119\n",
              " 9     112\n",
              " 20    110\n",
              " 14    104\n",
              " 1     104\n",
              " 0     101\n",
              " 2      99\n",
              " 17     99\n",
              " 4      95\n",
              " 6      95\n",
              " 3      93\n",
              " 15     92\n",
              " 12     90\n",
              " 8      89\n",
              " 16     88\n",
              " 13     85\n",
              " 19     83\n",
              " 18     82\n",
              " 11     79\n",
              " 5      59\n",
              " Name: pc, dtype: int64,\n",
              " 347     7\n",
              " 179     6\n",
              " 371     6\n",
              " 275     6\n",
              " 88      5\n",
              "        ..\n",
              " 241     1\n",
              " 239     1\n",
              " 840     1\n",
              " 841     1\n",
              " 1960    1\n",
              " Name: px_height, Length: 1137, dtype: int64,\n",
              " 874     7\n",
              " 1247    7\n",
              " 1383    6\n",
              " 1463    6\n",
              " 1469    6\n",
              "        ..\n",
              " 1427    1\n",
              " 850     1\n",
              " 1430    1\n",
              " 1431    1\n",
              " 1998    1\n",
              " Name: px_width, Length: 1109, dtype: int64,\n",
              " 3142    4\n",
              " 2610    4\n",
              " 1229    4\n",
              " 2227    4\n",
              " 1464    4\n",
              "        ..\n",
              " 3002    1\n",
              " 953     1\n",
              " 952     1\n",
              " 2998    1\n",
              " 1012    1\n",
              " Name: ram, Length: 1562, dtype: int64,\n",
              " 17    193\n",
              " 12    157\n",
              " 7     151\n",
              " 14    143\n",
              " 16    143\n",
              " 15    135\n",
              " 13    131\n",
              " 11    126\n",
              " 10    125\n",
              " 9     124\n",
              " 19    124\n",
              " 18    120\n",
              " 8     117\n",
              " 6     114\n",
              " 5      97\n",
              " Name: sc_h, dtype: int64,\n",
              " 1     210\n",
              " 3     199\n",
              " 4     182\n",
              " 0     180\n",
              " 5     161\n",
              " 2     156\n",
              " 7     132\n",
              " 6     130\n",
              " 8     125\n",
              " 10    107\n",
              " 9      97\n",
              " 11     84\n",
              " 12     68\n",
              " 13     49\n",
              " 14     33\n",
              " 15     31\n",
              " 16     29\n",
              " 17     19\n",
              " 18      8\n",
              " Name: sc_w, dtype: int64,\n",
              " 7     124\n",
              " 4     123\n",
              " 16    116\n",
              " 15    115\n",
              " 19    113\n",
              " 6     111\n",
              " 10    105\n",
              " 8     104\n",
              " 11    103\n",
              " 20    102\n",
              " 14    101\n",
              " 13    100\n",
              " 9     100\n",
              " 18    100\n",
              " 12     99\n",
              " 2      99\n",
              " 17     98\n",
              " 3      94\n",
              " 5      93\n",
              " Name: talk_time, dtype: int64,\n",
              " 1    1523\n",
              " 0     477\n",
              " Name: three_g, dtype: int64,\n",
              " 1    1006\n",
              " 0     994\n",
              " Name: touch_screen, dtype: int64,\n",
              " 1    1014\n",
              " 0     986\n",
              " Name: wifi, dtype: int64,\n",
              " 0    500\n",
              " 1    500\n",
              " 2    500\n",
              " 3    500\n",
              " Name: price_range, dtype: int64]"
            ]
          },
          "execution_count": 7,
          "metadata": {},
          "output_type": "execute_result"
        }
      ],
      "source": [
        "# lets checl for the presence of categorical features\n",
        "\n",
        "[df[features].value_counts() for features in df.columns]"
      ]
    },
    {
      "cell_type": "code",
      "execution_count": null,
      "id": "0689fae2",
      "metadata": {
        "id": "0689fae2",
        "outputId": "32edf064-5574-4fd5-d3ba-9a9ea413f774"
      },
      "outputs": [
        {
          "data": {
            "text/plain": [
              "battery_power    1094\n",
              "blue                2\n",
              "clock_speed        26\n",
              "dual_sim            2\n",
              "fc                 20\n",
              "four_g              2\n",
              "int_memory         63\n",
              "m_dep              10\n",
              "mobile_wt         121\n",
              "n_cores             8\n",
              "pc                 21\n",
              "px_height        1137\n",
              "px_width         1109\n",
              "ram              1562\n",
              "sc_h               15\n",
              "sc_w               19\n",
              "talk_time          19\n",
              "three_g             2\n",
              "touch_screen        2\n",
              "wifi                2\n",
              "price_range         4\n",
              "dtype: int64"
            ]
          },
          "execution_count": 8,
          "metadata": {},
          "output_type": "execute_result"
        }
      ],
      "source": [
        "df.nunique()"
      ]
    },
    {
      "cell_type": "code",
      "execution_count": null,
      "id": "5e330638",
      "metadata": {
        "id": "5e330638"
      },
      "outputs": [],
      "source": [
        "# Blue,dual-sim,four-g,n-cores,three-g,touvh-screen and wifi seem to be categorical features.We can also\n",
        "# add others to the list as we explore the dataset"
      ]
    },
    {
      "cell_type": "code",
      "execution_count": null,
      "id": "7ff1ad6f",
      "metadata": {
        "id": "7ff1ad6f",
        "outputId": "66edb7b1-d849-447d-8a3d-610727d47db3"
      },
      "outputs": [
        {
          "data": {
            "text/plain": [
              "<AxesSubplot:>"
            ]
          },
          "execution_count": 10,
          "metadata": {},
          "output_type": "execute_result"
        },
        {
          "data": {
            "image/png": "[encoded data removed]",
            "text/plain": [
              "<Figure size 1440x1296 with 2 Axes>"
            ]
          },
          "metadata": {
            "needs_background": "light"
          },
          "output_type": "display_data"
        }
      ],
      "source": [
        "# Lets first observe the correlation between the features\n",
        "plt.figure(figsize = (20,18))\n",
        "sns.heatmap(df.corr(),cmap = 'YlGnBu',annot = True)"
      ]
    },
    {
      "cell_type": "code",
      "execution_count": null,
      "id": "37cd3d54",
      "metadata": {
        "id": "37cd3d54"
      },
      "outputs": [],
      "source": [
        "# ram is highly correlated with the price_range which is good for our model.Other features are not \n",
        "# highly correlated.No features have over 0.7 correlation"
      ]
    },
    {
      "cell_type": "code",
      "execution_count": null,
      "id": "0e280119",
      "metadata": {
        "id": "0e280119",
        "outputId": "c58520cb-f769-411b-8974-cd2217ded5eb"
      },
      "outputs": [
        {
          "data": {
            "image/png": "[encoded data removed]",
            "text/plain": [
              "<Figure size 432x288 with 1 Axes>"
            ]
          },
          "metadata": {
            "needs_background": "light"
          },
          "output_type": "display_data"
        },
        {
          "data": {
            "image/png": "[encoded data removed]",
            "text/plain": [
              "<Figure size 432x288 with 1 Axes>"
            ]
          },
          "metadata": {
            "needs_background": "light"
          },
          "output_type": "display_data"
        },
        {
          "data": {
            "image/png": "[encoded data removed]",
            "text/plain": [
              "<Figure size 432x288 with 1 Axes>"
            ]
          },
          "metadata": {
            "needs_background": "light"
          },
          "output_type": "display_data"
        },
        {
          "data": {
            "image/png": "[encoded data removed]",
            "text/plain": [
              "<Figure size 432x288 with 1 Axes>"
            ]
          },
          "metadata": {
            "needs_background": "light"
          },
          "output_type": "display_data"
        },
        {
          "data": {
            "image/png": "[encoded data removed]",
            "text/plain": [
              "<Figure size 432x288 with 1 Axes>"
            ]
          },
          "metadata": {
            "needs_background": "light"
          },
          "output_type": "display_data"
        },
        {
          "data": {
            "image/png": "[encoded data removed]",
            "text/plain": [
              "<Figure size 432x288 with 1 Axes>"
            ]
          },
          "metadata": {
            "needs_background": "light"
          },
          "output_type": "display_data"
        },
        {
          "data": {
            "image/png": "[encoded data removed]",
            "text/plain": [
              "<Figure size 432x288 with 1 Axes>"
            ]
          },
          "metadata": {
            "needs_background": "light"
          },
          "output_type": "display_data"
        },
        {
          "data": {
            "image/png": "[encoded data removed]",
            "text/plain": [
              "<Figure size 432x288 with 1 Axes>"
            ]
          },
          "metadata": {
            "needs_background": "light"
          },
          "output_type": "display_data"
        },
        {
          "data": {
            "image/png": "[encoded data removed]",
            "text/plain": [
              "<Figure size 432x288 with 1 Axes>"
            ]
          },
          "metadata": {
            "needs_background": "light"
          },
          "output_type": "display_data"
        },
        {
          "data": {
            "image/png": "[encoded data removed]",
            "text/plain": [
              "<Figure size 432x288 with 1 Axes>"
            ]
          },
          "metadata": {
            "needs_background": "light"
          },
          "output_type": "display_data"
        },
        {
          "data": {
            "image/png": "[encoded data removed]",
            "text/plain": [
              "<Figure size 432x288 with 1 Axes>"
            ]
          },
          "metadata": {
            "needs_background": "light"
          },
          "output_type": "display_data"
        },
        {
          "data": {
            "image/png": "[encoded data removed]",
            "text/plain": [
              "<Figure size 432x288 with 1 Axes>"
            ]
          },
          "metadata": {
            "needs_background": "light"
          },
          "output_type": "display_data"
        },
        {
          "data": {
            "image/png": "[encoded data removed]",
            "text/plain": [
              "<Figure size 432x288 with 1 Axes>"
            ]
          },
          "metadata": {
            "needs_background": "light"
          },
          "output_type": "display_data"
        },
        {
          "data": {
            "image/png": "[encoded data removed]",
            "text/plain": [
              "<Figure size 432x288 with 1 Axes>"
            ]
          },
          "metadata": {
            "needs_background": "light"
          },
          "output_type": "display_data"
        },
        {
          "data": {
            "image/png": "[encoded data removed]",
            "text/plain": [
              "<Figure size 432x288 with 1 Axes>"
            ]
          },
          "metadata": {
            "needs_background": "light"
          },
          "output_type": "display_data"
        },
        {
          "data": {
            "image/png": "[encoded data removed]",
            "text/plain": [
              "<Figure size 432x288 with 1 Axes>"
            ]
          },
          "metadata": {
            "needs_background": "light"
          },
          "output_type": "display_data"
        },
        {
          "data": {
            "image/png": "[encoded data removed]",
            "text/plain": [
              "<Figure size 432x288 with 1 Axes>"
            ]
          },
          "metadata": {
            "needs_background": "light"
          },
          "output_type": "display_data"
        },
        {
          "data": {
            "image/png": "[encoded data removed]",
            "text/plain": [
              "<Figure size 432x288 with 1 Axes>"
            ]
          },
          "metadata": {
            "needs_background": "light"
          },
          "output_type": "display_data"
        },
        {
          "data": {
            "image/png": "[encoded data removed]",
            "text/plain": [
              "<Figure size 432x288 with 1 Axes>"
            ]
          },
          "metadata": {
            "needs_background": "light"
          },
          "output_type": "display_data"
        },
        {
          "data": {
            "image/png": "[encoded data removed]",
            "text/plain": [
              "<Figure size 432x288 with 1 Axes>"
            ]
          },
          "metadata": {
            "needs_background": "light"
          },
          "output_type": "display_data"
        },
        {
          "data": {
            "image/png": "[encoded data removed]",
            "text/plain": [
              "<Figure size 432x288 with 1 Axes>"
            ]
          },
          "metadata": {
            "needs_background": "light"
          },
          "output_type": "display_data"
        }
      ],
      "source": [
        "#Lets look for the presence of outliers\n",
        "for features in df.columns:\n",
        "    sns.boxplot(x = df['price_range'],y = df[features])\n",
        "    plt.show()"
      ]
    },
    {
      "cell_type": "code",
      "execution_count": null,
      "id": "af6cf3b6",
      "metadata": {
        "id": "af6cf3b6"
      },
      "outputs": [],
      "source": [
        "# There looks to be some significant outliers in fc column.However,fc is a categorical features so skwness mus have been the\n",
        "# possible reason to get outliers."
      ]
    },
    {
      "cell_type": "markdown",
      "id": "19a7ebd8",
      "metadata": {
        "id": "19a7ebd8"
      },
      "source": [
        "## Feature Engineering"
      ]
    },
    {
      "cell_type": "code",
      "execution_count": null,
      "id": "fdb468fe",
      "metadata": {
        "id": "fdb468fe",
        "outputId": "446c0ed6-ff90-4d41-cd45-ace0bf2ff469"
      },
      "outputs": [
        {
          "data": {
            "text/html": [
              "<div>\n",
              "<style scoped>\n",
              "    .dataframe tbody tr th:only-of-type {\n",
              "        vertical-align: middle;\n",
              "    }\n",
              "\n",
              "    .dataframe tbody tr th {\n",
              "        vertical-align: top;\n",
              "    }\n",
              "\n",
              "    .dataframe thead th {\n",
              "        text-align: right;\n",
              "    }\n",
              "</style>\n",
              "<table border=\"1\" class=\"dataframe\">\n",
              "  <thead>\n",
              "    <tr style=\"text-align: right;\">\n",
              "      <th></th>\n",
              "      <th>blue</th>\n",
              "      <th>dual_sim</th>\n",
              "      <th>four_g</th>\n",
              "      <th>n_cores</th>\n",
              "      <th>three_g</th>\n",
              "      <th>touch_screen</th>\n",
              "      <th>wifi</th>\n",
              "      <th>m_dep</th>\n",
              "    </tr>\n",
              "  </thead>\n",
              "  <tbody>\n",
              "    <tr>\n",
              "      <th>0</th>\n",
              "      <td>0</td>\n",
              "      <td>0</td>\n",
              "      <td>0</td>\n",
              "      <td>2</td>\n",
              "      <td>0</td>\n",
              "      <td>0</td>\n",
              "      <td>1</td>\n",
              "      <td>0.6</td>\n",
              "    </tr>\n",
              "    <tr>\n",
              "      <th>1</th>\n",
              "      <td>1</td>\n",
              "      <td>1</td>\n",
              "      <td>1</td>\n",
              "      <td>3</td>\n",
              "      <td>1</td>\n",
              "      <td>1</td>\n",
              "      <td>0</td>\n",
              "      <td>0.7</td>\n",
              "    </tr>\n",
              "    <tr>\n",
              "      <th>2</th>\n",
              "      <td>1</td>\n",
              "      <td>1</td>\n",
              "      <td>1</td>\n",
              "      <td>5</td>\n",
              "      <td>1</td>\n",
              "      <td>1</td>\n",
              "      <td>0</td>\n",
              "      <td>0.9</td>\n",
              "    </tr>\n",
              "    <tr>\n",
              "      <th>3</th>\n",
              "      <td>1</td>\n",
              "      <td>0</td>\n",
              "      <td>0</td>\n",
              "      <td>6</td>\n",
              "      <td>1</td>\n",
              "      <td>0</td>\n",
              "      <td>0</td>\n",
              "      <td>0.8</td>\n",
              "    </tr>\n",
              "    <tr>\n",
              "      <th>4</th>\n",
              "      <td>1</td>\n",
              "      <td>0</td>\n",
              "      <td>1</td>\n",
              "      <td>2</td>\n",
              "      <td>1</td>\n",
              "      <td>1</td>\n",
              "      <td>0</td>\n",
              "      <td>0.6</td>\n",
              "    </tr>\n",
              "  </tbody>\n",
              "</table>\n",
              "</div>"
            ],
            "text/plain": [
              "   blue  dual_sim  four_g  n_cores  three_g  touch_screen  wifi  m_dep\n",
              "0     0         0       0        2        0             0     1    0.6\n",
              "1     1         1       1        3        1             1     0    0.7\n",
              "2     1         1       1        5        1             1     0    0.9\n",
              "3     1         0       0        6        1             0     0    0.8\n",
              "4     1         0       1        2        1             1     0    0.6"
            ]
          },
          "execution_count": 14,
          "metadata": {},
          "output_type": "execute_result"
        }
      ],
      "source": [
        "# Lets first deal with categorical features that we will convert to dummies\n",
        "\n",
        "cat_cols = df[['blue','dual_sim','four_g','n_cores','three_g','touch_screen','wifi','m_dep']]#We have limited to 10 unique items\n",
        "cat_cols.head()"
      ]
    },
    {
      "cell_type": "code",
      "execution_count": null,
      "id": "99b53589",
      "metadata": {
        "id": "99b53589"
      },
      "outputs": [],
      "source": [
        "#clock_speed is an Ordinal data so we will convert it to such using the map function\n",
        "\n",
        "map_function = {}\n",
        "for number,value in zip(np.round(np.arange(0.5,3.1,step = 0.1),1),np.arange(1,27,step = 1)):\n",
        "    map_function[number] = value"
      ]
    },
    {
      "cell_type": "code",
      "execution_count": null,
      "id": "938d6951",
      "metadata": {
        "id": "938d6951",
        "outputId": "fe7cb351-b104-4613-b735-20a42fea5176"
      },
      "outputs": [
        {
          "data": {
            "text/plain": [
              "{0.5: 1,\n",
              " 0.6: 2,\n",
              " 0.7: 3,\n",
              " 0.8: 4,\n",
              " 0.9: 5,\n",
              " 1.0: 6,\n",
              " 1.1: 7,\n",
              " 1.2: 8,\n",
              " 1.3: 9,\n",
              " 1.4: 10,\n",
              " 1.5: 11,\n",
              " 1.6: 12,\n",
              " 1.7: 13,\n",
              " 1.8: 14,\n",
              " 1.9: 15,\n",
              " 2.0: 16,\n",
              " 2.1: 17,\n",
              " 2.2: 18,\n",
              " 2.3: 19,\n",
              " 2.4: 20,\n",
              " 2.5: 21,\n",
              " 2.6: 22,\n",
              " 2.7: 23,\n",
              " 2.8: 24,\n",
              " 2.9: 25,\n",
              " 3.0: 26}"
            ]
          },
          "execution_count": 16,
          "metadata": {},
          "output_type": "execute_result"
        }
      ],
      "source": [
        "map_function"
      ]
    },
    {
      "cell_type": "code",
      "execution_count": null,
      "id": "e83da5a0",
      "metadata": {
        "id": "e83da5a0",
        "outputId": "5ddb3cc2-fb81-47bf-d832-0b1b42688777"
      },
      "outputs": [
        {
          "data": {
            "text/html": [
              "<div>\n",
              "<style scoped>\n",
              "    .dataframe tbody tr th:only-of-type {\n",
              "        vertical-align: middle;\n",
              "    }\n",
              "\n",
              "    .dataframe tbody tr th {\n",
              "        vertical-align: top;\n",
              "    }\n",
              "\n",
              "    .dataframe thead th {\n",
              "        text-align: right;\n",
              "    }\n",
              "</style>\n",
              "<table border=\"1\" class=\"dataframe\">\n",
              "  <thead>\n",
              "    <tr style=\"text-align: right;\">\n",
              "      <th></th>\n",
              "      <th>battery_power</th>\n",
              "      <th>blue</th>\n",
              "      <th>clock_speed</th>\n",
              "      <th>dual_sim</th>\n",
              "      <th>fc</th>\n",
              "      <th>four_g</th>\n",
              "      <th>int_memory</th>\n",
              "      <th>m_dep</th>\n",
              "      <th>mobile_wt</th>\n",
              "      <th>n_cores</th>\n",
              "      <th>...</th>\n",
              "      <th>px_height</th>\n",
              "      <th>px_width</th>\n",
              "      <th>ram</th>\n",
              "      <th>sc_h</th>\n",
              "      <th>sc_w</th>\n",
              "      <th>talk_time</th>\n",
              "      <th>three_g</th>\n",
              "      <th>touch_screen</th>\n",
              "      <th>wifi</th>\n",
              "      <th>price_range</th>\n",
              "    </tr>\n",
              "  </thead>\n",
              "  <tbody>\n",
              "    <tr>\n",
              "      <th>0</th>\n",
              "      <td>842</td>\n",
              "      <td>0</td>\n",
              "      <td>18</td>\n",
              "      <td>0</td>\n",
              "      <td>1</td>\n",
              "      <td>0</td>\n",
              "      <td>7</td>\n",
              "      <td>0.6</td>\n",
              "      <td>188</td>\n",
              "      <td>2</td>\n",
              "      <td>...</td>\n",
              "      <td>20</td>\n",
              "      <td>756</td>\n",
              "      <td>2549</td>\n",
              "      <td>9</td>\n",
              "      <td>7</td>\n",
              "      <td>19</td>\n",
              "      <td>0</td>\n",
              "      <td>0</td>\n",
              "      <td>1</td>\n",
              "      <td>1</td>\n",
              "    </tr>\n",
              "    <tr>\n",
              "      <th>1</th>\n",
              "      <td>1021</td>\n",
              "      <td>1</td>\n",
              "      <td>1</td>\n",
              "      <td>1</td>\n",
              "      <td>0</td>\n",
              "      <td>1</td>\n",
              "      <td>53</td>\n",
              "      <td>0.7</td>\n",
              "      <td>136</td>\n",
              "      <td>3</td>\n",
              "      <td>...</td>\n",
              "      <td>905</td>\n",
              "      <td>1988</td>\n",
              "      <td>2631</td>\n",
              "      <td>17</td>\n",
              "      <td>3</td>\n",
              "      <td>7</td>\n",
              "      <td>1</td>\n",
              "      <td>1</td>\n",
              "      <td>0</td>\n",
              "      <td>2</td>\n",
              "    </tr>\n",
              "    <tr>\n",
              "      <th>2</th>\n",
              "      <td>563</td>\n",
              "      <td>1</td>\n",
              "      <td>1</td>\n",
              "      <td>1</td>\n",
              "      <td>2</td>\n",
              "      <td>1</td>\n",
              "      <td>41</td>\n",
              "      <td>0.9</td>\n",
              "      <td>145</td>\n",
              "      <td>5</td>\n",
              "      <td>...</td>\n",
              "      <td>1263</td>\n",
              "      <td>1716</td>\n",
              "      <td>2603</td>\n",
              "      <td>11</td>\n",
              "      <td>2</td>\n",
              "      <td>9</td>\n",
              "      <td>1</td>\n",
              "      <td>1</td>\n",
              "      <td>0</td>\n",
              "      <td>2</td>\n",
              "    </tr>\n",
              "    <tr>\n",
              "      <th>3</th>\n",
              "      <td>615</td>\n",
              "      <td>1</td>\n",
              "      <td>21</td>\n",
              "      <td>0</td>\n",
              "      <td>0</td>\n",
              "      <td>0</td>\n",
              "      <td>10</td>\n",
              "      <td>0.8</td>\n",
              "      <td>131</td>\n",
              "      <td>6</td>\n",
              "      <td>...</td>\n",
              "      <td>1216</td>\n",
              "      <td>1786</td>\n",
              "      <td>2769</td>\n",
              "      <td>16</td>\n",
              "      <td>8</td>\n",
              "      <td>11</td>\n",
              "      <td>1</td>\n",
              "      <td>0</td>\n",
              "      <td>0</td>\n",
              "      <td>2</td>\n",
              "    </tr>\n",
              "    <tr>\n",
              "      <th>4</th>\n",
              "      <td>1821</td>\n",
              "      <td>1</td>\n",
              "      <td>8</td>\n",
              "      <td>0</td>\n",
              "      <td>13</td>\n",
              "      <td>1</td>\n",
              "      <td>44</td>\n",
              "      <td>0.6</td>\n",
              "      <td>141</td>\n",
              "      <td>2</td>\n",
              "      <td>...</td>\n",
              "      <td>1208</td>\n",
              "      <td>1212</td>\n",
              "      <td>1411</td>\n",
              "      <td>8</td>\n",
              "      <td>2</td>\n",
              "      <td>15</td>\n",
              "      <td>1</td>\n",
              "      <td>1</td>\n",
              "      <td>0</td>\n",
              "      <td>1</td>\n",
              "    </tr>\n",
              "  </tbody>\n",
              "</table>\n",
              "<p>5 rows × 21 columns</p>\n",
              "</div>"
            ],
            "text/plain": [
              "   battery_power  blue  clock_speed  dual_sim  fc  four_g  int_memory  m_dep  \\\n",
              "0            842     0           18         0   1       0           7    0.6   \n",
              "1           1021     1            1         1   0       1          53    0.7   \n",
              "2            563     1            1         1   2       1          41    0.9   \n",
              "3            615     1           21         0   0       0          10    0.8   \n",
              "4           1821     1            8         0  13       1          44    0.6   \n",
              "\n",
              "   mobile_wt  n_cores  ...  px_height  px_width   ram  sc_h  sc_w  talk_time  \\\n",
              "0        188        2  ...         20       756  2549     9     7         19   \n",
              "1        136        3  ...        905      1988  2631    17     3          7   \n",
              "2        145        5  ...       1263      1716  2603    11     2          9   \n",
              "3        131        6  ...       1216      1786  2769    16     8         11   \n",
              "4        141        2  ...       1208      1212  1411     8     2         15   \n",
              "\n",
              "   three_g  touch_screen  wifi  price_range  \n",
              "0        0             0     1            1  \n",
              "1        1             1     0            2  \n",
              "2        1             1     0            2  \n",
              "3        1             0     0            2  \n",
              "4        1             1     0            1  \n",
              "\n",
              "[5 rows x 21 columns]"
            ]
          },
          "execution_count": 17,
          "metadata": {},
          "output_type": "execute_result"
        }
      ],
      "source": [
        "df['clock_speed'] = df['clock_speed'].map(map_function)\n",
        "df.head()"
      ]
    },
    {
      "cell_type": "code",
      "execution_count": null,
      "id": "e9739230",
      "metadata": {
        "id": "e9739230",
        "outputId": "b96716be-70c0-499f-bf1b-24f9e98319dd"
      },
      "outputs": [
        {
          "data": {
            "text/plain": [
              "1     413\n",
              "24     85\n",
              "19     78\n",
              "17     76\n",
              "12     76\n",
              "21     74\n",
              "2      74\n",
              "10     70\n",
              "9      68\n",
              "11     67\n",
              "16     67\n",
              "15     65\n",
              "3      64\n",
              "25     62\n",
              "14     62\n",
              "6      61\n",
              "13     60\n",
              "18     59\n",
              "20     58\n",
              "5      58\n",
              "4      58\n",
              "8      56\n",
              "22     55\n",
              "23     55\n",
              "7      51\n",
              "26     28\n",
              "Name: clock_speed, dtype: int64"
            ]
          },
          "execution_count": 18,
          "metadata": {},
          "output_type": "execute_result"
        }
      ],
      "source": [
        "df['clock_speed'].value_counts()"
      ]
    },
    {
      "cell_type": "code",
      "execution_count": null,
      "id": "34bc1d56",
      "metadata": {
        "id": "34bc1d56",
        "outputId": "6bb85203-ffcc-43d0-ccb7-b30ae591868b"
      },
      "outputs": [
        {
          "data": {
            "text/html": [
              "<div>\n",
              "<style scoped>\n",
              "    .dataframe tbody tr th:only-of-type {\n",
              "        vertical-align: middle;\n",
              "    }\n",
              "\n",
              "    .dataframe tbody tr th {\n",
              "        vertical-align: top;\n",
              "    }\n",
              "\n",
              "    .dataframe thead th {\n",
              "        text-align: right;\n",
              "    }\n",
              "</style>\n",
              "<table border=\"1\" class=\"dataframe\">\n",
              "  <thead>\n",
              "    <tr style=\"text-align: right;\">\n",
              "      <th></th>\n",
              "      <th>battery_power</th>\n",
              "      <th>clock_speed</th>\n",
              "      <th>fc</th>\n",
              "      <th>int_memory</th>\n",
              "      <th>mobile_wt</th>\n",
              "      <th>pc</th>\n",
              "      <th>px_height</th>\n",
              "      <th>px_width</th>\n",
              "      <th>ram</th>\n",
              "      <th>sc_h</th>\n",
              "      <th>...</th>\n",
              "      <th>wifi_1</th>\n",
              "      <th>m_dep_0.2</th>\n",
              "      <th>m_dep_0.3</th>\n",
              "      <th>m_dep_0.4</th>\n",
              "      <th>m_dep_0.5</th>\n",
              "      <th>m_dep_0.6</th>\n",
              "      <th>m_dep_0.7</th>\n",
              "      <th>m_dep_0.8</th>\n",
              "      <th>m_dep_0.9</th>\n",
              "      <th>m_dep_1.0</th>\n",
              "    </tr>\n",
              "  </thead>\n",
              "  <tbody>\n",
              "    <tr>\n",
              "      <th>0</th>\n",
              "      <td>842</td>\n",
              "      <td>18</td>\n",
              "      <td>1</td>\n",
              "      <td>7</td>\n",
              "      <td>188</td>\n",
              "      <td>2</td>\n",
              "      <td>20</td>\n",
              "      <td>756</td>\n",
              "      <td>2549</td>\n",
              "      <td>9</td>\n",
              "      <td>...</td>\n",
              "      <td>1</td>\n",
              "      <td>0</td>\n",
              "      <td>0</td>\n",
              "      <td>0</td>\n",
              "      <td>0</td>\n",
              "      <td>1</td>\n",
              "      <td>0</td>\n",
              "      <td>0</td>\n",
              "      <td>0</td>\n",
              "      <td>0</td>\n",
              "    </tr>\n",
              "    <tr>\n",
              "      <th>1</th>\n",
              "      <td>1021</td>\n",
              "      <td>1</td>\n",
              "      <td>0</td>\n",
              "      <td>53</td>\n",
              "      <td>136</td>\n",
              "      <td>6</td>\n",
              "      <td>905</td>\n",
              "      <td>1988</td>\n",
              "      <td>2631</td>\n",
              "      <td>17</td>\n",
              "      <td>...</td>\n",
              "      <td>0</td>\n",
              "      <td>0</td>\n",
              "      <td>0</td>\n",
              "      <td>0</td>\n",
              "      <td>0</td>\n",
              "      <td>0</td>\n",
              "      <td>1</td>\n",
              "      <td>0</td>\n",
              "      <td>0</td>\n",
              "      <td>0</td>\n",
              "    </tr>\n",
              "    <tr>\n",
              "      <th>2</th>\n",
              "      <td>563</td>\n",
              "      <td>1</td>\n",
              "      <td>2</td>\n",
              "      <td>41</td>\n",
              "      <td>145</td>\n",
              "      <td>6</td>\n",
              "      <td>1263</td>\n",
              "      <td>1716</td>\n",
              "      <td>2603</td>\n",
              "      <td>11</td>\n",
              "      <td>...</td>\n",
              "      <td>0</td>\n",
              "      <td>0</td>\n",
              "      <td>0</td>\n",
              "      <td>0</td>\n",
              "      <td>0</td>\n",
              "      <td>0</td>\n",
              "      <td>0</td>\n",
              "      <td>0</td>\n",
              "      <td>1</td>\n",
              "      <td>0</td>\n",
              "    </tr>\n",
              "    <tr>\n",
              "      <th>3</th>\n",
              "      <td>615</td>\n",
              "      <td>21</td>\n",
              "      <td>0</td>\n",
              "      <td>10</td>\n",
              "      <td>131</td>\n",
              "      <td>9</td>\n",
              "      <td>1216</td>\n",
              "      <td>1786</td>\n",
              "      <td>2769</td>\n",
              "      <td>16</td>\n",
              "      <td>...</td>\n",
              "      <td>0</td>\n",
              "      <td>0</td>\n",
              "      <td>0</td>\n",
              "      <td>0</td>\n",
              "      <td>0</td>\n",
              "      <td>0</td>\n",
              "      <td>0</td>\n",
              "      <td>1</td>\n",
              "      <td>0</td>\n",
              "      <td>0</td>\n",
              "    </tr>\n",
              "    <tr>\n",
              "      <th>4</th>\n",
              "      <td>1821</td>\n",
              "      <td>8</td>\n",
              "      <td>13</td>\n",
              "      <td>44</td>\n",
              "      <td>141</td>\n",
              "      <td>14</td>\n",
              "      <td>1208</td>\n",
              "      <td>1212</td>\n",
              "      <td>1411</td>\n",
              "      <td>8</td>\n",
              "      <td>...</td>\n",
              "      <td>0</td>\n",
              "      <td>0</td>\n",
              "      <td>0</td>\n",
              "      <td>0</td>\n",
              "      <td>0</td>\n",
              "      <td>1</td>\n",
              "      <td>0</td>\n",
              "      <td>0</td>\n",
              "      <td>0</td>\n",
              "      <td>0</td>\n",
              "    </tr>\n",
              "  </tbody>\n",
              "</table>\n",
              "<p>5 rows × 35 columns</p>\n",
              "</div>"
            ],
            "text/plain": [
              "   battery_power  clock_speed  fc  int_memory  mobile_wt  pc  px_height  \\\n",
              "0            842           18   1           7        188   2         20   \n",
              "1           1021            1   0          53        136   6        905   \n",
              "2            563            1   2          41        145   6       1263   \n",
              "3            615           21   0          10        131   9       1216   \n",
              "4           1821            8  13          44        141  14       1208   \n",
              "\n",
              "   px_width   ram  sc_h  ...  wifi_1  m_dep_0.2  m_dep_0.3  m_dep_0.4  \\\n",
              "0       756  2549     9  ...       1          0          0          0   \n",
              "1      1988  2631    17  ...       0          0          0          0   \n",
              "2      1716  2603    11  ...       0          0          0          0   \n",
              "3      1786  2769    16  ...       0          0          0          0   \n",
              "4      1212  1411     8  ...       0          0          0          0   \n",
              "\n",
              "   m_dep_0.5  m_dep_0.6  m_dep_0.7  m_dep_0.8  m_dep_0.9  m_dep_1.0  \n",
              "0          0          1          0          0          0          0  \n",
              "1          0          0          1          0          0          0  \n",
              "2          0          0          0          0          1          0  \n",
              "3          0          0          0          1          0          0  \n",
              "4          0          1          0          0          0          0  \n",
              "\n",
              "[5 rows x 35 columns]"
            ]
          },
          "execution_count": 19,
          "metadata": {},
          "output_type": "execute_result"
        }
      ],
      "source": [
        "# Lets get dummy variables from our categorical features\n",
        "\n",
        "df =pd.get_dummies(df,columns = cat_cols.columns,drop_first = True)\n",
        "df.head()"
      ]
    },
    {
      "cell_type": "code",
      "execution_count": null,
      "id": "f4ae89ad",
      "metadata": {
        "id": "f4ae89ad",
        "outputId": "073fcaea-a257-44ba-a60c-ae0f0e2c3223"
      },
      "outputs": [
        {
          "name": "stdout",
          "output_type": "stream",
          "text": [
            "<class 'pandas.core.frame.DataFrame'>\n",
            "RangeIndex: 2000 entries, 0 to 1999\n",
            "Data columns (total 35 columns):\n",
            " #   Column          Non-Null Count  Dtype\n",
            "---  ------          --------------  -----\n",
            " 0   battery_power   2000 non-null   int64\n",
            " 1   clock_speed     2000 non-null   int64\n",
            " 2   fc              2000 non-null   int64\n",
            " 3   int_memory      2000 non-null   int64\n",
            " 4   mobile_wt       2000 non-null   int64\n",
            " 5   pc              2000 non-null   int64\n",
            " 6   px_height       2000 non-null   int64\n",
            " 7   px_width        2000 non-null   int64\n",
            " 8   ram             2000 non-null   int64\n",
            " 9   sc_h            2000 non-null   int64\n",
            " 10  sc_w            2000 non-null   int64\n",
            " 11  talk_time       2000 non-null   int64\n",
            " 12  price_range     2000 non-null   int64\n",
            " 13  blue_1          2000 non-null   uint8\n",
            " 14  dual_sim_1      2000 non-null   uint8\n",
            " 15  four_g_1        2000 non-null   uint8\n",
            " 16  n_cores_2       2000 non-null   uint8\n",
            " 17  n_cores_3       2000 non-null   uint8\n",
            " 18  n_cores_4       2000 non-null   uint8\n",
            " 19  n_cores_5       2000 non-null   uint8\n",
            " 20  n_cores_6       2000 non-null   uint8\n",
            " 21  n_cores_7       2000 non-null   uint8\n",
            " 22  n_cores_8       2000 non-null   uint8\n",
            " 23  three_g_1       2000 non-null   uint8\n",
            " 24  touch_screen_1  2000 non-null   uint8\n",
            " 25  wifi_1          2000 non-null   uint8\n",
            " 26  m_dep_0.2       2000 non-null   uint8\n",
            " 27  m_dep_0.3       2000 non-null   uint8\n",
            " 28  m_dep_0.4       2000 non-null   uint8\n",
            " 29  m_dep_0.5       2000 non-null   uint8\n",
            " 30  m_dep_0.6       2000 non-null   uint8\n",
            " 31  m_dep_0.7       2000 non-null   uint8\n",
            " 32  m_dep_0.8       2000 non-null   uint8\n",
            " 33  m_dep_0.9       2000 non-null   uint8\n",
            " 34  m_dep_1.0       2000 non-null   uint8\n",
            "dtypes: int64(13), uint8(22)\n",
            "memory usage: 246.2 KB\n"
          ]
        }
      ],
      "source": [
        "df.info()"
      ]
    },
    {
      "cell_type": "code",
      "execution_count": null,
      "id": "4e8ca8ac",
      "metadata": {
        "id": "4e8ca8ac",
        "outputId": "b27a8321-b054-44eb-ed6e-7937e89c6a08"
      },
      "outputs": [
        {
          "data": {
            "text/plain": [
              "0    500\n",
              "1    500\n",
              "2    500\n",
              "3    500\n",
              "Name: price_range, dtype: int64"
            ]
          },
          "execution_count": 21,
          "metadata": {},
          "output_type": "execute_result"
        }
      ],
      "source": [
        "# Lets observe the distribution of the target variable\n",
        "df['price_range'].value_counts()"
      ]
    },
    {
      "cell_type": "code",
      "execution_count": null,
      "id": "dee62131",
      "metadata": {
        "id": "dee62131"
      },
      "outputs": [],
      "source": [
        "#No imblalance whatsover.\n",
        "#We can remove the target from our independent features\n",
        "X = df.drop(columns = 'price_range')\n",
        "y = df['price_range']"
      ]
    },
    {
      "cell_type": "code",
      "execution_count": null,
      "id": "925cef28",
      "metadata": {
        "id": "925cef28",
        "outputId": "90a6f118-60c6-416f-9a99-a1afd8ae70c1"
      },
      "outputs": [
        {
          "data": {
            "text/html": [
              "<div>\n",
              "<style scoped>\n",
              "    .dataframe tbody tr th:only-of-type {\n",
              "        vertical-align: middle;\n",
              "    }\n",
              "\n",
              "    .dataframe tbody tr th {\n",
              "        vertical-align: top;\n",
              "    }\n",
              "\n",
              "    .dataframe thead th {\n",
              "        text-align: right;\n",
              "    }\n",
              "</style>\n",
              "<table border=\"1\" class=\"dataframe\">\n",
              "  <thead>\n",
              "    <tr style=\"text-align: right;\">\n",
              "      <th></th>\n",
              "      <th>battery_power</th>\n",
              "      <th>clock_speed</th>\n",
              "      <th>fc</th>\n",
              "      <th>int_memory</th>\n",
              "      <th>mobile_wt</th>\n",
              "      <th>pc</th>\n",
              "      <th>px_height</th>\n",
              "      <th>px_width</th>\n",
              "      <th>ram</th>\n",
              "      <th>sc_h</th>\n",
              "      <th>...</th>\n",
              "      <th>wifi_1</th>\n",
              "      <th>m_dep_0.2</th>\n",
              "      <th>m_dep_0.3</th>\n",
              "      <th>m_dep_0.4</th>\n",
              "      <th>m_dep_0.5</th>\n",
              "      <th>m_dep_0.6</th>\n",
              "      <th>m_dep_0.7</th>\n",
              "      <th>m_dep_0.8</th>\n",
              "      <th>m_dep_0.9</th>\n",
              "      <th>m_dep_1.0</th>\n",
              "    </tr>\n",
              "  </thead>\n",
              "  <tbody>\n",
              "    <tr>\n",
              "      <th>0</th>\n",
              "      <td>842</td>\n",
              "      <td>18</td>\n",
              "      <td>1</td>\n",
              "      <td>7</td>\n",
              "      <td>188</td>\n",
              "      <td>2</td>\n",
              "      <td>20</td>\n",
              "      <td>756</td>\n",
              "      <td>2549</td>\n",
              "      <td>9</td>\n",
              "      <td>...</td>\n",
              "      <td>1</td>\n",
              "      <td>0</td>\n",
              "      <td>0</td>\n",
              "      <td>0</td>\n",
              "      <td>0</td>\n",
              "      <td>1</td>\n",
              "      <td>0</td>\n",
              "      <td>0</td>\n",
              "      <td>0</td>\n",
              "      <td>0</td>\n",
              "    </tr>\n",
              "    <tr>\n",
              "      <th>1</th>\n",
              "      <td>1021</td>\n",
              "      <td>1</td>\n",
              "      <td>0</td>\n",
              "      <td>53</td>\n",
              "      <td>136</td>\n",
              "      <td>6</td>\n",
              "      <td>905</td>\n",
              "      <td>1988</td>\n",
              "      <td>2631</td>\n",
              "      <td>17</td>\n",
              "      <td>...</td>\n",
              "      <td>0</td>\n",
              "      <td>0</td>\n",
              "      <td>0</td>\n",
              "      <td>0</td>\n",
              "      <td>0</td>\n",
              "      <td>0</td>\n",
              "      <td>1</td>\n",
              "      <td>0</td>\n",
              "      <td>0</td>\n",
              "      <td>0</td>\n",
              "    </tr>\n",
              "    <tr>\n",
              "      <th>2</th>\n",
              "      <td>563</td>\n",
              "      <td>1</td>\n",
              "      <td>2</td>\n",
              "      <td>41</td>\n",
              "      <td>145</td>\n",
              "      <td>6</td>\n",
              "      <td>1263</td>\n",
              "      <td>1716</td>\n",
              "      <td>2603</td>\n",
              "      <td>11</td>\n",
              "      <td>...</td>\n",
              "      <td>0</td>\n",
              "      <td>0</td>\n",
              "      <td>0</td>\n",
              "      <td>0</td>\n",
              "      <td>0</td>\n",
              "      <td>0</td>\n",
              "      <td>0</td>\n",
              "      <td>0</td>\n",
              "      <td>1</td>\n",
              "      <td>0</td>\n",
              "    </tr>\n",
              "    <tr>\n",
              "      <th>3</th>\n",
              "      <td>615</td>\n",
              "      <td>21</td>\n",
              "      <td>0</td>\n",
              "      <td>10</td>\n",
              "      <td>131</td>\n",
              "      <td>9</td>\n",
              "      <td>1216</td>\n",
              "      <td>1786</td>\n",
              "      <td>2769</td>\n",
              "      <td>16</td>\n",
              "      <td>...</td>\n",
              "      <td>0</td>\n",
              "      <td>0</td>\n",
              "      <td>0</td>\n",
              "      <td>0</td>\n",
              "      <td>0</td>\n",
              "      <td>0</td>\n",
              "      <td>0</td>\n",
              "      <td>1</td>\n",
              "      <td>0</td>\n",
              "      <td>0</td>\n",
              "    </tr>\n",
              "    <tr>\n",
              "      <th>4</th>\n",
              "      <td>1821</td>\n",
              "      <td>8</td>\n",
              "      <td>13</td>\n",
              "      <td>44</td>\n",
              "      <td>141</td>\n",
              "      <td>14</td>\n",
              "      <td>1208</td>\n",
              "      <td>1212</td>\n",
              "      <td>1411</td>\n",
              "      <td>8</td>\n",
              "      <td>...</td>\n",
              "      <td>0</td>\n",
              "      <td>0</td>\n",
              "      <td>0</td>\n",
              "      <td>0</td>\n",
              "      <td>0</td>\n",
              "      <td>1</td>\n",
              "      <td>0</td>\n",
              "      <td>0</td>\n",
              "      <td>0</td>\n",
              "      <td>0</td>\n",
              "    </tr>\n",
              "  </tbody>\n",
              "</table>\n",
              "<p>5 rows × 34 columns</p>\n",
              "</div>"
            ],
            "text/plain": [
              "   battery_power  clock_speed  fc  int_memory  mobile_wt  pc  px_height  \\\n",
              "0            842           18   1           7        188   2         20   \n",
              "1           1021            1   0          53        136   6        905   \n",
              "2            563            1   2          41        145   6       1263   \n",
              "3            615           21   0          10        131   9       1216   \n",
              "4           1821            8  13          44        141  14       1208   \n",
              "\n",
              "   px_width   ram  sc_h  ...  wifi_1  m_dep_0.2  m_dep_0.3  m_dep_0.4  \\\n",
              "0       756  2549     9  ...       1          0          0          0   \n",
              "1      1988  2631    17  ...       0          0          0          0   \n",
              "2      1716  2603    11  ...       0          0          0          0   \n",
              "3      1786  2769    16  ...       0          0          0          0   \n",
              "4      1212  1411     8  ...       0          0          0          0   \n",
              "\n",
              "   m_dep_0.5  m_dep_0.6  m_dep_0.7  m_dep_0.8  m_dep_0.9  m_dep_1.0  \n",
              "0          0          1          0          0          0          0  \n",
              "1          0          0          1          0          0          0  \n",
              "2          0          0          0          0          1          0  \n",
              "3          0          0          0          1          0          0  \n",
              "4          0          1          0          0          0          0  \n",
              "\n",
              "[5 rows x 34 columns]"
            ]
          },
          "execution_count": 23,
          "metadata": {},
          "output_type": "execute_result"
        }
      ],
      "source": [
        "X.head()"
      ]
    },
    {
      "cell_type": "code",
      "execution_count": null,
      "id": "ba3a6916",
      "metadata": {
        "id": "ba3a6916",
        "outputId": "b55ff412-404f-468b-a024-07fd4c8b551c"
      },
      "outputs": [
        {
          "name": "stdout",
          "output_type": "stream",
          "text": [
            "<class 'pandas.core.frame.DataFrame'>\n",
            "RangeIndex: 2000 entries, 0 to 1999\n",
            "Data columns (total 34 columns):\n",
            " #   Column          Non-Null Count  Dtype\n",
            "---  ------          --------------  -----\n",
            " 0   battery_power   2000 non-null   int64\n",
            " 1   clock_speed     2000 non-null   int64\n",
            " 2   fc              2000 non-null   int64\n",
            " 3   int_memory      2000 non-null   int64\n",
            " 4   mobile_wt       2000 non-null   int64\n",
            " 5   pc              2000 non-null   int64\n",
            " 6   px_height       2000 non-null   int64\n",
            " 7   px_width        2000 non-null   int64\n",
            " 8   ram             2000 non-null   int64\n",
            " 9   sc_h            2000 non-null   int64\n",
            " 10  sc_w            2000 non-null   int64\n",
            " 11  talk_time       2000 non-null   int64\n",
            " 12  blue_1          2000 non-null   uint8\n",
            " 13  dual_sim_1      2000 non-null   uint8\n",
            " 14  four_g_1        2000 non-null   uint8\n",
            " 15  n_cores_2       2000 non-null   uint8\n",
            " 16  n_cores_3       2000 non-null   uint8\n",
            " 17  n_cores_4       2000 non-null   uint8\n",
            " 18  n_cores_5       2000 non-null   uint8\n",
            " 19  n_cores_6       2000 non-null   uint8\n",
            " 20  n_cores_7       2000 non-null   uint8\n",
            " 21  n_cores_8       2000 non-null   uint8\n",
            " 22  three_g_1       2000 non-null   uint8\n",
            " 23  touch_screen_1  2000 non-null   uint8\n",
            " 24  wifi_1          2000 non-null   uint8\n",
            " 25  m_dep_0.2       2000 non-null   uint8\n",
            " 26  m_dep_0.3       2000 non-null   uint8\n",
            " 27  m_dep_0.4       2000 non-null   uint8\n",
            " 28  m_dep_0.5       2000 non-null   uint8\n",
            " 29  m_dep_0.6       2000 non-null   uint8\n",
            " 30  m_dep_0.7       2000 non-null   uint8\n",
            " 31  m_dep_0.8       2000 non-null   uint8\n",
            " 32  m_dep_0.9       2000 non-null   uint8\n",
            " 33  m_dep_1.0       2000 non-null   uint8\n",
            "dtypes: int64(12), uint8(22)\n",
            "memory usage: 230.6 KB\n"
          ]
        }
      ],
      "source": [
        "X.info()"
      ]
    },
    {
      "cell_type": "code",
      "execution_count": null,
      "id": "d35df983",
      "metadata": {
        "id": "d35df983",
        "outputId": "4c45235e-e401-4a2b-b873-69854f0d2e23"
      },
      "outputs": [
        {
          "data": {
            "text/plain": [
              "0       1\n",
              "1       2\n",
              "2       2\n",
              "3       2\n",
              "4       1\n",
              "       ..\n",
              "1995    0\n",
              "1996    2\n",
              "1997    3\n",
              "1998    0\n",
              "1999    3\n",
              "Name: price_range, Length: 2000, dtype: int64"
            ]
          },
          "execution_count": 25,
          "metadata": {},
          "output_type": "execute_result"
        }
      ],
      "source": [
        "y"
      ]
    },
    {
      "cell_type": "markdown",
      "id": "fa907017",
      "metadata": {
        "id": "fa907017"
      },
      "source": [
        "## Feature Selection"
      ]
    },
    {
      "cell_type": "code",
      "execution_count": null,
      "id": "2080f394",
      "metadata": {
        "id": "2080f394"
      },
      "outputs": [],
      "source": [
        "from sklearn.model_selection import train_test_split\n",
        "\n",
        "X_train,X_test,y_train,y_test = train_test_split(X,y,test_size = 0.3,stratify = y,random_state = 17)"
      ]
    },
    {
      "cell_type": "code",
      "execution_count": null,
      "id": "b400bb3d",
      "metadata": {
        "id": "b400bb3d"
      },
      "outputs": [],
      "source": [
        "# Lets explore for constant features\n",
        "from sklearn.feature_selection import VarianceThreshold\n",
        "\n",
        "vt = VarianceThreshold()\n",
        "transformed_features = vt.fit_transform(X_train)"
      ]
    },
    {
      "cell_type": "code",
      "execution_count": null,
      "id": "0d375f9c",
      "metadata": {
        "id": "0d375f9c"
      },
      "outputs": [],
      "source": [
        "X = pd.DataFrame(transformed_features,columns = X_train.columns)"
      ]
    },
    {
      "cell_type": "code",
      "execution_count": null,
      "id": "101d0190",
      "metadata": {
        "id": "101d0190",
        "outputId": "96121e27-c3a6-4a24-9be1-3ee4e99f0972"
      },
      "outputs": [
        {
          "data": {
            "text/html": [
              "<div>\n",
              "<style scoped>\n",
              "    .dataframe tbody tr th:only-of-type {\n",
              "        vertical-align: middle;\n",
              "    }\n",
              "\n",
              "    .dataframe tbody tr th {\n",
              "        vertical-align: top;\n",
              "    }\n",
              "\n",
              "    .dataframe thead th {\n",
              "        text-align: right;\n",
              "    }\n",
              "</style>\n",
              "<table border=\"1\" class=\"dataframe\">\n",
              "  <thead>\n",
              "    <tr style=\"text-align: right;\">\n",
              "      <th></th>\n",
              "      <th>battery_power</th>\n",
              "      <th>clock_speed</th>\n",
              "      <th>fc</th>\n",
              "      <th>int_memory</th>\n",
              "      <th>mobile_wt</th>\n",
              "      <th>pc</th>\n",
              "      <th>px_height</th>\n",
              "      <th>px_width</th>\n",
              "      <th>ram</th>\n",
              "      <th>sc_h</th>\n",
              "      <th>...</th>\n",
              "      <th>wifi_1</th>\n",
              "      <th>m_dep_0.2</th>\n",
              "      <th>m_dep_0.3</th>\n",
              "      <th>m_dep_0.4</th>\n",
              "      <th>m_dep_0.5</th>\n",
              "      <th>m_dep_0.6</th>\n",
              "      <th>m_dep_0.7</th>\n",
              "      <th>m_dep_0.8</th>\n",
              "      <th>m_dep_0.9</th>\n",
              "      <th>m_dep_1.0</th>\n",
              "    </tr>\n",
              "  </thead>\n",
              "  <tbody>\n",
              "    <tr>\n",
              "      <th>0</th>\n",
              "      <td>536</td>\n",
              "      <td>20</td>\n",
              "      <td>12</td>\n",
              "      <td>3</td>\n",
              "      <td>182</td>\n",
              "      <td>14</td>\n",
              "      <td>1386</td>\n",
              "      <td>1539</td>\n",
              "      <td>284</td>\n",
              "      <td>12</td>\n",
              "      <td>...</td>\n",
              "      <td>0</td>\n",
              "      <td>0</td>\n",
              "      <td>1</td>\n",
              "      <td>0</td>\n",
              "      <td>0</td>\n",
              "      <td>0</td>\n",
              "      <td>0</td>\n",
              "      <td>0</td>\n",
              "      <td>0</td>\n",
              "      <td>0</td>\n",
              "    </tr>\n",
              "    <tr>\n",
              "      <th>1</th>\n",
              "      <td>1285</td>\n",
              "      <td>4</td>\n",
              "      <td>4</td>\n",
              "      <td>11</td>\n",
              "      <td>199</td>\n",
              "      <td>7</td>\n",
              "      <td>1791</td>\n",
              "      <td>1896</td>\n",
              "      <td>3966</td>\n",
              "      <td>17</td>\n",
              "      <td>...</td>\n",
              "      <td>1</td>\n",
              "      <td>0</td>\n",
              "      <td>0</td>\n",
              "      <td>0</td>\n",
              "      <td>0</td>\n",
              "      <td>0</td>\n",
              "      <td>0</td>\n",
              "      <td>1</td>\n",
              "      <td>0</td>\n",
              "      <td>0</td>\n",
              "    </tr>\n",
              "    <tr>\n",
              "      <th>2</th>\n",
              "      <td>1830</td>\n",
              "      <td>1</td>\n",
              "      <td>5</td>\n",
              "      <td>14</td>\n",
              "      <td>160</td>\n",
              "      <td>6</td>\n",
              "      <td>773</td>\n",
              "      <td>1353</td>\n",
              "      <td>1905</td>\n",
              "      <td>16</td>\n",
              "      <td>...</td>\n",
              "      <td>1</td>\n",
              "      <td>0</td>\n",
              "      <td>0</td>\n",
              "      <td>0</td>\n",
              "      <td>0</td>\n",
              "      <td>0</td>\n",
              "      <td>0</td>\n",
              "      <td>1</td>\n",
              "      <td>0</td>\n",
              "      <td>0</td>\n",
              "    </tr>\n",
              "    <tr>\n",
              "      <th>3</th>\n",
              "      <td>1108</td>\n",
              "      <td>25</td>\n",
              "      <td>10</td>\n",
              "      <td>52</td>\n",
              "      <td>183</td>\n",
              "      <td>12</td>\n",
              "      <td>130</td>\n",
              "      <td>1706</td>\n",
              "      <td>3264</td>\n",
              "      <td>16</td>\n",
              "      <td>...</td>\n",
              "      <td>1</td>\n",
              "      <td>0</td>\n",
              "      <td>0</td>\n",
              "      <td>0</td>\n",
              "      <td>0</td>\n",
              "      <td>0</td>\n",
              "      <td>0</td>\n",
              "      <td>0</td>\n",
              "      <td>0</td>\n",
              "      <td>0</td>\n",
              "    </tr>\n",
              "    <tr>\n",
              "      <th>4</th>\n",
              "      <td>947</td>\n",
              "      <td>4</td>\n",
              "      <td>0</td>\n",
              "      <td>22</td>\n",
              "      <td>197</td>\n",
              "      <td>13</td>\n",
              "      <td>1176</td>\n",
              "      <td>1220</td>\n",
              "      <td>2842</td>\n",
              "      <td>16</td>\n",
              "      <td>...</td>\n",
              "      <td>0</td>\n",
              "      <td>0</td>\n",
              "      <td>0</td>\n",
              "      <td>0</td>\n",
              "      <td>0</td>\n",
              "      <td>0</td>\n",
              "      <td>0</td>\n",
              "      <td>0</td>\n",
              "      <td>0</td>\n",
              "      <td>0</td>\n",
              "    </tr>\n",
              "  </tbody>\n",
              "</table>\n",
              "<p>5 rows × 34 columns</p>\n",
              "</div>"
            ],
            "text/plain": [
              "   battery_power  clock_speed  fc  int_memory  mobile_wt  pc  px_height  \\\n",
              "0            536           20  12           3        182  14       1386   \n",
              "1           1285            4   4          11        199   7       1791   \n",
              "2           1830            1   5          14        160   6        773   \n",
              "3           1108           25  10          52        183  12        130   \n",
              "4            947            4   0          22        197  13       1176   \n",
              "\n",
              "   px_width   ram  sc_h  ...  wifi_1  m_dep_0.2  m_dep_0.3  m_dep_0.4  \\\n",
              "0      1539   284    12  ...       0          0          1          0   \n",
              "1      1896  3966    17  ...       1          0          0          0   \n",
              "2      1353  1905    16  ...       1          0          0          0   \n",
              "3      1706  3264    16  ...       1          0          0          0   \n",
              "4      1220  2842    16  ...       0          0          0          0   \n",
              "\n",
              "   m_dep_0.5  m_dep_0.6  m_dep_0.7  m_dep_0.8  m_dep_0.9  m_dep_1.0  \n",
              "0          0          0          0          0          0          0  \n",
              "1          0          0          0          1          0          0  \n",
              "2          0          0          0          1          0          0  \n",
              "3          0          0          0          0          0          0  \n",
              "4          0          0          0          0          0          0  \n",
              "\n",
              "[5 rows x 34 columns]"
            ]
          },
          "execution_count": 29,
          "metadata": {},
          "output_type": "execute_result"
        }
      ],
      "source": [
        "X.head()"
      ]
    },
    {
      "cell_type": "code",
      "execution_count": null,
      "id": "4df09ab4",
      "metadata": {
        "id": "4df09ab4"
      },
      "outputs": [],
      "source": [
        "# We do not have constant feaures"
      ]
    },
    {
      "cell_type": "code",
      "execution_count": null,
      "id": "96d6d24e",
      "metadata": {
        "id": "96d6d24e"
      },
      "outputs": [],
      "source": [
        "from sklearn.feature_selection import SelectKBest\n",
        "from sklearn.feature_selection import chi2"
      ]
    },
    {
      "cell_type": "code",
      "execution_count": null,
      "id": "7e7325ae",
      "metadata": {
        "id": "7e7325ae"
      },
      "outputs": [],
      "source": [
        "ordered_rank_features=SelectKBest(score_func=chi2,k=34)\n",
        "ordered_feature=ordered_rank_features.fit(X_train,y_train)"
      ]
    },
    {
      "cell_type": "code",
      "execution_count": null,
      "id": "a8cb11e9",
      "metadata": {
        "id": "a8cb11e9"
      },
      "outputs": [],
      "source": [
        "dfscores=pd.DataFrame(ordered_feature.scores_,columns=[\"Score\"])\n",
        "dfcolumns=pd.DataFrame(X.columns)"
      ]
    },
    {
      "cell_type": "code",
      "execution_count": null,
      "id": "6bd52024",
      "metadata": {
        "id": "6bd52024"
      },
      "outputs": [],
      "source": [
        "features_rank=pd.concat([dfcolumns,dfscores],axis=1)"
      ]
    },
    {
      "cell_type": "code",
      "execution_count": null,
      "id": "ba62aa86",
      "metadata": {
        "id": "ba62aa86",
        "outputId": "ce797efc-c823-446f-e7d9-17a3efe43de2"
      },
      "outputs": [
        {
          "data": {
            "text/html": [
              "<div>\n",
              "<style scoped>\n",
              "    .dataframe tbody tr th:only-of-type {\n",
              "        vertical-align: middle;\n",
              "    }\n",
              "\n",
              "    .dataframe tbody tr th {\n",
              "        vertical-align: top;\n",
              "    }\n",
              "\n",
              "    .dataframe thead th {\n",
              "        text-align: right;\n",
              "    }\n",
              "</style>\n",
              "<table border=\"1\" class=\"dataframe\">\n",
              "  <thead>\n",
              "    <tr style=\"text-align: right;\">\n",
              "      <th></th>\n",
              "      <th>Features</th>\n",
              "      <th>Score</th>\n",
              "    </tr>\n",
              "  </thead>\n",
              "  <tbody>\n",
              "    <tr>\n",
              "      <th>8</th>\n",
              "      <td>ram</td>\n",
              "      <td>652119.398412</td>\n",
              "    </tr>\n",
              "    <tr>\n",
              "      <th>6</th>\n",
              "      <td>px_height</td>\n",
              "      <td>9828.319717</td>\n",
              "    </tr>\n",
              "    <tr>\n",
              "      <th>0</th>\n",
              "      <td>battery_power</td>\n",
              "      <td>8348.375369</td>\n",
              "    </tr>\n",
              "    <tr>\n",
              "      <th>7</th>\n",
              "      <td>px_width</td>\n",
              "      <td>6598.523742</td>\n",
              "    </tr>\n",
              "    <tr>\n",
              "      <th>4</th>\n",
              "      <td>mobile_wt</td>\n",
              "      <td>122.474603</td>\n",
              "    </tr>\n",
              "    <tr>\n",
              "      <th>3</th>\n",
              "      <td>int_memory</td>\n",
              "      <td>102.966742</td>\n",
              "    </tr>\n",
              "    <tr>\n",
              "      <th>10</th>\n",
              "      <td>sc_w</td>\n",
              "      <td>25.085459</td>\n",
              "    </tr>\n",
              "    <tr>\n",
              "      <th>1</th>\n",
              "      <td>clock_speed</td>\n",
              "      <td>11.381571</td>\n",
              "    </tr>\n",
              "    <tr>\n",
              "      <th>11</th>\n",
              "      <td>talk_time</td>\n",
              "      <td>9.250131</td>\n",
              "    </tr>\n",
              "    <tr>\n",
              "      <th>5</th>\n",
              "      <td>pc</td>\n",
              "      <td>8.328023</td>\n",
              "    </tr>\n",
              "    <tr>\n",
              "      <th>9</th>\n",
              "      <td>sc_h</td>\n",
              "      <td>6.776890</td>\n",
              "    </tr>\n",
              "    <tr>\n",
              "      <th>26</th>\n",
              "      <td>m_dep_0.3</td>\n",
              "      <td>4.953846</td>\n",
              "    </tr>\n",
              "    <tr>\n",
              "      <th>2</th>\n",
              "      <td>fc</td>\n",
              "      <td>4.572467</td>\n",
              "    </tr>\n",
              "    <tr>\n",
              "      <th>33</th>\n",
              "      <td>m_dep_1.0</td>\n",
              "      <td>3.986667</td>\n",
              "    </tr>\n",
              "    <tr>\n",
              "      <th>15</th>\n",
              "      <td>n_cores_2</td>\n",
              "      <td>3.619883</td>\n",
              "    </tr>\n",
              "    <tr>\n",
              "      <th>17</th>\n",
              "      <td>n_cores_4</td>\n",
              "      <td>2.502591</td>\n",
              "    </tr>\n",
              "    <tr>\n",
              "      <th>18</th>\n",
              "      <td>n_cores_5</td>\n",
              "      <td>2.211429</td>\n",
              "    </tr>\n",
              "    <tr>\n",
              "      <th>32</th>\n",
              "      <td>m_dep_0.9</td>\n",
              "      <td>1.761194</td>\n",
              "    </tr>\n",
              "    <tr>\n",
              "      <th>20</th>\n",
              "      <td>n_cores_7</td>\n",
              "      <td>1.727273</td>\n",
              "    </tr>\n",
              "    <tr>\n",
              "      <th>29</th>\n",
              "      <td>m_dep_0.6</td>\n",
              "      <td>1.562963</td>\n",
              "    </tr>\n",
              "    <tr>\n",
              "      <th>16</th>\n",
              "      <td>n_cores_3</td>\n",
              "      <td>1.476190</td>\n",
              "    </tr>\n",
              "    <tr>\n",
              "      <th>28</th>\n",
              "      <td>m_dep_0.5</td>\n",
              "      <td>1.315789</td>\n",
              "    </tr>\n",
              "    <tr>\n",
              "      <th>23</th>\n",
              "      <td>touch_screen_1</td>\n",
              "      <td>1.198047</td>\n",
              "    </tr>\n",
              "    <tr>\n",
              "      <th>25</th>\n",
              "      <td>m_dep_0.2</td>\n",
              "      <td>1.185430</td>\n",
              "    </tr>\n",
              "    <tr>\n",
              "      <th>21</th>\n",
              "      <td>n_cores_8</td>\n",
              "      <td>1.165746</td>\n",
              "    </tr>\n",
              "    <tr>\n",
              "      <th>24</th>\n",
              "      <td>wifi_1</td>\n",
              "      <td>0.965909</td>\n",
              "    </tr>\n",
              "    <tr>\n",
              "      <th>27</th>\n",
              "      <td>m_dep_0.4</td>\n",
              "      <td>0.930435</td>\n",
              "    </tr>\n",
              "    <tr>\n",
              "      <th>14</th>\n",
              "      <td>four_g_1</td>\n",
              "      <td>0.800853</td>\n",
              "    </tr>\n",
              "    <tr>\n",
              "      <th>30</th>\n",
              "      <td>m_dep_0.7</td>\n",
              "      <td>0.764706</td>\n",
              "    </tr>\n",
              "    <tr>\n",
              "      <th>13</th>\n",
              "      <td>dual_sim_1</td>\n",
              "      <td>0.755334</td>\n",
              "    </tr>\n",
              "    <tr>\n",
              "      <th>31</th>\n",
              "      <td>m_dep_0.8</td>\n",
              "      <td>0.705882</td>\n",
              "    </tr>\n",
              "    <tr>\n",
              "      <th>22</th>\n",
              "      <td>three_g_1</td>\n",
              "      <td>0.615894</td>\n",
              "    </tr>\n",
              "    <tr>\n",
              "      <th>12</th>\n",
              "      <td>blue_1</td>\n",
              "      <td>0.545324</td>\n",
              "    </tr>\n",
              "    <tr>\n",
              "      <th>19</th>\n",
              "      <td>n_cores_6</td>\n",
              "      <td>0.481013</td>\n",
              "    </tr>\n",
              "  </tbody>\n",
              "</table>\n",
              "</div>"
            ],
            "text/plain": [
              "          Features          Score\n",
              "8              ram  652119.398412\n",
              "6        px_height    9828.319717\n",
              "0    battery_power    8348.375369\n",
              "7         px_width    6598.523742\n",
              "4        mobile_wt     122.474603\n",
              "3       int_memory     102.966742\n",
              "10            sc_w      25.085459\n",
              "1      clock_speed      11.381571\n",
              "11       talk_time       9.250131\n",
              "5               pc       8.328023\n",
              "9             sc_h       6.776890\n",
              "26       m_dep_0.3       4.953846\n",
              "2               fc       4.572467\n",
              "33       m_dep_1.0       3.986667\n",
              "15       n_cores_2       3.619883\n",
              "17       n_cores_4       2.502591\n",
              "18       n_cores_5       2.211429\n",
              "32       m_dep_0.9       1.761194\n",
              "20       n_cores_7       1.727273\n",
              "29       m_dep_0.6       1.562963\n",
              "16       n_cores_3       1.476190\n",
              "28       m_dep_0.5       1.315789\n",
              "23  touch_screen_1       1.198047\n",
              "25       m_dep_0.2       1.185430\n",
              "21       n_cores_8       1.165746\n",
              "24          wifi_1       0.965909\n",
              "27       m_dep_0.4       0.930435\n",
              "14        four_g_1       0.800853\n",
              "30       m_dep_0.7       0.764706\n",
              "13      dual_sim_1       0.755334\n",
              "31       m_dep_0.8       0.705882\n",
              "22       three_g_1       0.615894\n",
              "12          blue_1       0.545324\n",
              "19       n_cores_6       0.481013"
            ]
          },
          "execution_count": 35,
          "metadata": {},
          "output_type": "execute_result"
        }
      ],
      "source": [
        "features_rank.columns=['Features','Score']\n",
        "features_rank.sort_values(by = 'Score',ascending = False)"
      ]
    },
    {
      "cell_type": "code",
      "execution_count": null,
      "id": "bc89f8e8",
      "metadata": {
        "id": "bc89f8e8",
        "outputId": "a582e9f0-17bf-4ef4-8109-c9561659271f"
      },
      "outputs": [
        {
          "data": {
            "text/plain": [
              "ExtraTreesClassifier()"
            ]
          },
          "execution_count": 36,
          "metadata": {},
          "output_type": "execute_result"
        }
      ],
      "source": [
        "# Lets do Feature Importance using Extra Tree Classifier\n",
        "from sklearn.ensemble import ExtraTreesClassifier\n",
        "\n",
        "etc = ExtraTreesClassifier()\n",
        "etc.fit(X_train,y_train)"
      ]
    },
    {
      "cell_type": "code",
      "execution_count": null,
      "id": "4030913c",
      "metadata": {
        "id": "4030913c",
        "outputId": "b75287e6-3a8d-49a8-88a4-43a94d0be132"
      },
      "outputs": [
        {
          "name": "stdout",
          "output_type": "stream",
          "text": [
            "[0.05067912 0.03163138 0.03130547 0.03453411 0.03430493 0.03189841\n",
            " 0.03999886 0.04503982 0.32434326 0.0326765  0.03234486 0.03351841\n",
            " 0.01997733 0.02001955 0.01817281 0.01094465 0.01116402 0.0117595\n",
            " 0.01123978 0.01081498 0.01166681 0.01219818 0.01485125 0.01835386\n",
            " 0.01924197 0.0100487  0.00995454 0.00945653 0.01108787 0.00952653\n",
            " 0.00998976 0.01031338 0.01009065 0.0068522 ]\n"
          ]
        }
      ],
      "source": [
        "print(etc.feature_importances_)"
      ]
    },
    {
      "cell_type": "code",
      "execution_count": null,
      "id": "97a61864",
      "metadata": {
        "id": "97a61864",
        "outputId": "62dcab30-eb9c-4e1a-a4b5-68e0dbc3d437"
      },
      "outputs": [
        {
          "data": {
            "text/html": [
              "<div>\n",
              "<style scoped>\n",
              "    .dataframe tbody tr th:only-of-type {\n",
              "        vertical-align: middle;\n",
              "    }\n",
              "\n",
              "    .dataframe tbody tr th {\n",
              "        vertical-align: top;\n",
              "    }\n",
              "\n",
              "    .dataframe thead th {\n",
              "        text-align: right;\n",
              "    }\n",
              "</style>\n",
              "<table border=\"1\" class=\"dataframe\">\n",
              "  <thead>\n",
              "    <tr style=\"text-align: right;\">\n",
              "      <th></th>\n",
              "      <th>Score Value</th>\n",
              "    </tr>\n",
              "  </thead>\n",
              "  <tbody>\n",
              "    <tr>\n",
              "      <th>ram</th>\n",
              "      <td>0.324343</td>\n",
              "    </tr>\n",
              "    <tr>\n",
              "      <th>battery_power</th>\n",
              "      <td>0.050679</td>\n",
              "    </tr>\n",
              "    <tr>\n",
              "      <th>px_width</th>\n",
              "      <td>0.045040</td>\n",
              "    </tr>\n",
              "    <tr>\n",
              "      <th>px_height</th>\n",
              "      <td>0.039999</td>\n",
              "    </tr>\n",
              "    <tr>\n",
              "      <th>int_memory</th>\n",
              "      <td>0.034534</td>\n",
              "    </tr>\n",
              "    <tr>\n",
              "      <th>mobile_wt</th>\n",
              "      <td>0.034305</td>\n",
              "    </tr>\n",
              "    <tr>\n",
              "      <th>talk_time</th>\n",
              "      <td>0.033518</td>\n",
              "    </tr>\n",
              "    <tr>\n",
              "      <th>sc_h</th>\n",
              "      <td>0.032677</td>\n",
              "    </tr>\n",
              "    <tr>\n",
              "      <th>sc_w</th>\n",
              "      <td>0.032345</td>\n",
              "    </tr>\n",
              "    <tr>\n",
              "      <th>pc</th>\n",
              "      <td>0.031898</td>\n",
              "    </tr>\n",
              "    <tr>\n",
              "      <th>clock_speed</th>\n",
              "      <td>0.031631</td>\n",
              "    </tr>\n",
              "    <tr>\n",
              "      <th>fc</th>\n",
              "      <td>0.031305</td>\n",
              "    </tr>\n",
              "    <tr>\n",
              "      <th>dual_sim_1</th>\n",
              "      <td>0.020020</td>\n",
              "    </tr>\n",
              "    <tr>\n",
              "      <th>blue_1</th>\n",
              "      <td>0.019977</td>\n",
              "    </tr>\n",
              "    <tr>\n",
              "      <th>wifi_1</th>\n",
              "      <td>0.019242</td>\n",
              "    </tr>\n",
              "    <tr>\n",
              "      <th>touch_screen_1</th>\n",
              "      <td>0.018354</td>\n",
              "    </tr>\n",
              "    <tr>\n",
              "      <th>four_g_1</th>\n",
              "      <td>0.018173</td>\n",
              "    </tr>\n",
              "    <tr>\n",
              "      <th>three_g_1</th>\n",
              "      <td>0.014851</td>\n",
              "    </tr>\n",
              "    <tr>\n",
              "      <th>n_cores_8</th>\n",
              "      <td>0.012198</td>\n",
              "    </tr>\n",
              "    <tr>\n",
              "      <th>n_cores_4</th>\n",
              "      <td>0.011759</td>\n",
              "    </tr>\n",
              "    <tr>\n",
              "      <th>n_cores_7</th>\n",
              "      <td>0.011667</td>\n",
              "    </tr>\n",
              "    <tr>\n",
              "      <th>n_cores_5</th>\n",
              "      <td>0.011240</td>\n",
              "    </tr>\n",
              "    <tr>\n",
              "      <th>n_cores_3</th>\n",
              "      <td>0.011164</td>\n",
              "    </tr>\n",
              "    <tr>\n",
              "      <th>m_dep_0.5</th>\n",
              "      <td>0.011088</td>\n",
              "    </tr>\n",
              "    <tr>\n",
              "      <th>n_cores_2</th>\n",
              "      <td>0.010945</td>\n",
              "    </tr>\n",
              "    <tr>\n",
              "      <th>n_cores_6</th>\n",
              "      <td>0.010815</td>\n",
              "    </tr>\n",
              "    <tr>\n",
              "      <th>m_dep_0.8</th>\n",
              "      <td>0.010313</td>\n",
              "    </tr>\n",
              "    <tr>\n",
              "      <th>m_dep_0.9</th>\n",
              "      <td>0.010091</td>\n",
              "    </tr>\n",
              "    <tr>\n",
              "      <th>m_dep_0.2</th>\n",
              "      <td>0.010049</td>\n",
              "    </tr>\n",
              "    <tr>\n",
              "      <th>m_dep_0.7</th>\n",
              "      <td>0.009990</td>\n",
              "    </tr>\n",
              "    <tr>\n",
              "      <th>m_dep_0.3</th>\n",
              "      <td>0.009955</td>\n",
              "    </tr>\n",
              "    <tr>\n",
              "      <th>m_dep_0.6</th>\n",
              "      <td>0.009527</td>\n",
              "    </tr>\n",
              "    <tr>\n",
              "      <th>m_dep_0.4</th>\n",
              "      <td>0.009457</td>\n",
              "    </tr>\n",
              "    <tr>\n",
              "      <th>m_dep_1.0</th>\n",
              "      <td>0.006852</td>\n",
              "    </tr>\n",
              "  </tbody>\n",
              "</table>\n",
              "</div>"
            ],
            "text/plain": [
              "                Score Value\n",
              "ram                0.324343\n",
              "battery_power      0.050679\n",
              "px_width           0.045040\n",
              "px_height          0.039999\n",
              "int_memory         0.034534\n",
              "mobile_wt          0.034305\n",
              "talk_time          0.033518\n",
              "sc_h               0.032677\n",
              "sc_w               0.032345\n",
              "pc                 0.031898\n",
              "clock_speed        0.031631\n",
              "fc                 0.031305\n",
              "dual_sim_1         0.020020\n",
              "blue_1             0.019977\n",
              "wifi_1             0.019242\n",
              "touch_screen_1     0.018354\n",
              "four_g_1           0.018173\n",
              "three_g_1          0.014851\n",
              "n_cores_8          0.012198\n",
              "n_cores_4          0.011759\n",
              "n_cores_7          0.011667\n",
              "n_cores_5          0.011240\n",
              "n_cores_3          0.011164\n",
              "m_dep_0.5          0.011088\n",
              "n_cores_2          0.010945\n",
              "n_cores_6          0.010815\n",
              "m_dep_0.8          0.010313\n",
              "m_dep_0.9          0.010091\n",
              "m_dep_0.2          0.010049\n",
              "m_dep_0.7          0.009990\n",
              "m_dep_0.3          0.009955\n",
              "m_dep_0.6          0.009527\n",
              "m_dep_0.4          0.009457\n",
              "m_dep_1.0          0.006852"
            ]
          },
          "execution_count": 38,
          "metadata": {},
          "output_type": "execute_result"
        }
      ],
      "source": [
        "ordered_importance = pd.DataFrame(etc.feature_importances_,index = X_train.columns,columns = ['Score Value'])\n",
        "ordered_importance.sort_values(by = 'Score Value',ascending = False)"
      ]
    },
    {
      "cell_type": "code",
      "execution_count": null,
      "id": "3d5dc864",
      "metadata": {
        "id": "3d5dc864",
        "outputId": "aa99627c-fab1-45e4-82e1-3d18d16e9769"
      },
      "outputs": [
        {
          "data": {
            "text/html": [
              "<div>\n",
              "<style scoped>\n",
              "    .dataframe tbody tr th:only-of-type {\n",
              "        vertical-align: middle;\n",
              "    }\n",
              "\n",
              "    .dataframe tbody tr th {\n",
              "        vertical-align: top;\n",
              "    }\n",
              "\n",
              "    .dataframe thead th {\n",
              "        text-align: right;\n",
              "    }\n",
              "</style>\n",
              "<table border=\"1\" class=\"dataframe\">\n",
              "  <thead>\n",
              "    <tr style=\"text-align: right;\">\n",
              "      <th></th>\n",
              "      <th>SelectKBest</th>\n",
              "    </tr>\n",
              "    <tr>\n",
              "      <th>Features</th>\n",
              "      <th></th>\n",
              "    </tr>\n",
              "  </thead>\n",
              "  <tbody>\n",
              "    <tr>\n",
              "      <th>battery_power</th>\n",
              "      <td>battery_power</td>\n",
              "    </tr>\n",
              "    <tr>\n",
              "      <th>clock_speed</th>\n",
              "      <td>clock_speed</td>\n",
              "    </tr>\n",
              "    <tr>\n",
              "      <th>fc</th>\n",
              "      <td>fc</td>\n",
              "    </tr>\n",
              "    <tr>\n",
              "      <th>int_memory</th>\n",
              "      <td>int_memory</td>\n",
              "    </tr>\n",
              "    <tr>\n",
              "      <th>mobile_wt</th>\n",
              "      <td>mobile_wt</td>\n",
              "    </tr>\n",
              "    <tr>\n",
              "      <th>pc</th>\n",
              "      <td>pc</td>\n",
              "    </tr>\n",
              "    <tr>\n",
              "      <th>px_height</th>\n",
              "      <td>px_height</td>\n",
              "    </tr>\n",
              "    <tr>\n",
              "      <th>px_width</th>\n",
              "      <td>px_width</td>\n",
              "    </tr>\n",
              "    <tr>\n",
              "      <th>ram</th>\n",
              "      <td>ram</td>\n",
              "    </tr>\n",
              "    <tr>\n",
              "      <th>sc_h</th>\n",
              "      <td>sc_h</td>\n",
              "    </tr>\n",
              "    <tr>\n",
              "      <th>sc_w</th>\n",
              "      <td>sc_w</td>\n",
              "    </tr>\n",
              "    <tr>\n",
              "      <th>talk_time</th>\n",
              "      <td>talk_time</td>\n",
              "    </tr>\n",
              "    <tr>\n",
              "      <th>blue_1</th>\n",
              "      <td>blue_1</td>\n",
              "    </tr>\n",
              "    <tr>\n",
              "      <th>dual_sim_1</th>\n",
              "      <td>dual_sim_1</td>\n",
              "    </tr>\n",
              "    <tr>\n",
              "      <th>four_g_1</th>\n",
              "      <td>four_g_1</td>\n",
              "    </tr>\n",
              "    <tr>\n",
              "      <th>n_cores_2</th>\n",
              "      <td>n_cores_2</td>\n",
              "    </tr>\n",
              "    <tr>\n",
              "      <th>n_cores_3</th>\n",
              "      <td>n_cores_3</td>\n",
              "    </tr>\n",
              "    <tr>\n",
              "      <th>n_cores_4</th>\n",
              "      <td>n_cores_4</td>\n",
              "    </tr>\n",
              "    <tr>\n",
              "      <th>n_cores_5</th>\n",
              "      <td>n_cores_5</td>\n",
              "    </tr>\n",
              "    <tr>\n",
              "      <th>n_cores_6</th>\n",
              "      <td>n_cores_6</td>\n",
              "    </tr>\n",
              "    <tr>\n",
              "      <th>n_cores_7</th>\n",
              "      <td>n_cores_7</td>\n",
              "    </tr>\n",
              "    <tr>\n",
              "      <th>n_cores_8</th>\n",
              "      <td>n_cores_8</td>\n",
              "    </tr>\n",
              "    <tr>\n",
              "      <th>three_g_1</th>\n",
              "      <td>three_g_1</td>\n",
              "    </tr>\n",
              "    <tr>\n",
              "      <th>touch_screen_1</th>\n",
              "      <td>touch_screen_1</td>\n",
              "    </tr>\n",
              "    <tr>\n",
              "      <th>wifi_1</th>\n",
              "      <td>wifi_1</td>\n",
              "    </tr>\n",
              "    <tr>\n",
              "      <th>m_dep_0.2</th>\n",
              "      <td>m_dep_0.2</td>\n",
              "    </tr>\n",
              "    <tr>\n",
              "      <th>m_dep_0.3</th>\n",
              "      <td>m_dep_0.3</td>\n",
              "    </tr>\n",
              "    <tr>\n",
              "      <th>m_dep_0.4</th>\n",
              "      <td>m_dep_0.4</td>\n",
              "    </tr>\n",
              "    <tr>\n",
              "      <th>m_dep_0.5</th>\n",
              "      <td>m_dep_0.5</td>\n",
              "    </tr>\n",
              "    <tr>\n",
              "      <th>m_dep_0.6</th>\n",
              "      <td>m_dep_0.6</td>\n",
              "    </tr>\n",
              "    <tr>\n",
              "      <th>m_dep_0.7</th>\n",
              "      <td>m_dep_0.7</td>\n",
              "    </tr>\n",
              "    <tr>\n",
              "      <th>m_dep_0.8</th>\n",
              "      <td>m_dep_0.8</td>\n",
              "    </tr>\n",
              "    <tr>\n",
              "      <th>m_dep_0.9</th>\n",
              "      <td>m_dep_0.9</td>\n",
              "    </tr>\n",
              "    <tr>\n",
              "      <th>m_dep_1.0</th>\n",
              "      <td>m_dep_1.0</td>\n",
              "    </tr>\n",
              "  </tbody>\n",
              "</table>\n",
              "</div>"
            ],
            "text/plain": [
              "                   SelectKBest\n",
              "Features                      \n",
              "battery_power    battery_power\n",
              "clock_speed        clock_speed\n",
              "fc                          fc\n",
              "int_memory          int_memory\n",
              "mobile_wt            mobile_wt\n",
              "pc                          pc\n",
              "px_height            px_height\n",
              "px_width              px_width\n",
              "ram                        ram\n",
              "sc_h                      sc_h\n",
              "sc_w                      sc_w\n",
              "talk_time            talk_time\n",
              "blue_1                  blue_1\n",
              "dual_sim_1          dual_sim_1\n",
              "four_g_1              four_g_1\n",
              "n_cores_2            n_cores_2\n",
              "n_cores_3            n_cores_3\n",
              "n_cores_4            n_cores_4\n",
              "n_cores_5            n_cores_5\n",
              "n_cores_6            n_cores_6\n",
              "n_cores_7            n_cores_7\n",
              "n_cores_8            n_cores_8\n",
              "three_g_1            three_g_1\n",
              "touch_screen_1  touch_screen_1\n",
              "wifi_1                  wifi_1\n",
              "m_dep_0.2            m_dep_0.2\n",
              "m_dep_0.3            m_dep_0.3\n",
              "m_dep_0.4            m_dep_0.4\n",
              "m_dep_0.5            m_dep_0.5\n",
              "m_dep_0.6            m_dep_0.6\n",
              "m_dep_0.7            m_dep_0.7\n",
              "m_dep_0.8            m_dep_0.8\n",
              "m_dep_0.9            m_dep_0.9\n",
              "m_dep_1.0            m_dep_1.0"
            ]
          },
          "execution_count": 39,
          "metadata": {},
          "output_type": "execute_result"
        }
      ],
      "source": [
        "features_comparison = pd.DataFrame(ordered_importance.index,features_rank['Features'],columns = ['SelectKBest'])\n",
        "features_comparison"
      ]
    },
    {
      "cell_type": "code",
      "execution_count": null,
      "id": "b8481f24",
      "metadata": {
        "id": "b8481f24"
      },
      "outputs": [],
      "source": [
        "# The results are the same from both approaches"
      ]
    },
    {
      "cell_type": "markdown",
      "id": "6af26979",
      "metadata": {
        "id": "6af26979"
      },
      "source": [
        "## Model Building"
      ]
    },
    {
      "cell_type": "markdown",
      "id": "a8cff744",
      "metadata": {
        "id": "a8cff744"
      },
      "source": [
        "#### 1.Decision Tree Classifier"
      ]
    },
    {
      "cell_type": "code",
      "execution_count": null,
      "id": "43f44c6a",
      "metadata": {
        "id": "43f44c6a",
        "outputId": "cfb1344a-4674-40da-90c9-a1e50a9b2457"
      },
      "outputs": [
        {
          "data": {
            "text/plain": [
              "DecisionTreeClassifier()"
            ]
          },
          "execution_count": 41,
          "metadata": {},
          "output_type": "execute_result"
        }
      ],
      "source": [
        "from sklearn.tree import DecisionTreeClassifier\n",
        "\n",
        "DTC = DecisionTreeClassifier()\n",
        "DTC.fit(X_train,y_train)"
      ]
    },
    {
      "cell_type": "code",
      "execution_count": null,
      "id": "0b20ae5e",
      "metadata": {
        "id": "0b20ae5e"
      },
      "outputs": [],
      "source": [
        "y_pred = DTC.predict(X_test)\n",
        "y_pred_ = DTC.predict(X_train)"
      ]
    },
    {
      "cell_type": "code",
      "execution_count": null,
      "id": "01016db5",
      "metadata": {
        "id": "01016db5",
        "outputId": "309f3072-1d72-4ab1-dc88-91baab55b2f1"
      },
      "outputs": [
        {
          "name": "stdout",
          "output_type": "stream",
          "text": [
            "Training Set score: 1.0\n",
            "Test Set score: 0.8356965945118519\n"
          ]
        }
      ],
      "source": [
        "from sklearn.metrics import f1_score\n",
        "\n",
        "print(\"Training Set score:\",f1_score(y_pred = y_pred_,y_true = y_train,average = 'weighted'))\n",
        "print(\"Test Set score:\",f1_score(y_pred = y_pred,y_true = y_test,average = 'weighted'))"
      ]
    },
    {
      "cell_type": "markdown",
      "id": "d02d55a5",
      "metadata": {
        "id": "d02d55a5"
      },
      "source": [
        "#### 2.Random Forest Classifier"
      ]
    },
    {
      "cell_type": "code",
      "execution_count": null,
      "id": "00d9105e",
      "metadata": {
        "id": "00d9105e",
        "outputId": "73c3d32d-2ab6-4b5b-b01a-7a989d2529bd"
      },
      "outputs": [
        {
          "data": {
            "text/plain": [
              "RandomForestClassifier()"
            ]
          },
          "execution_count": 44,
          "metadata": {},
          "output_type": "execute_result"
        }
      ],
      "source": [
        "from sklearn.ensemble import RandomForestClassifier\n",
        "\n",
        "rfc = RandomForestClassifier()\n",
        "rfc.fit(X_train,y_train)"
      ]
    },
    {
      "cell_type": "code",
      "execution_count": null,
      "id": "2750f12d",
      "metadata": {
        "id": "2750f12d"
      },
      "outputs": [],
      "source": [
        "y_pred = rfc.predict(X_test)\n",
        "y_pred_ = rfc.predict(X_train)"
      ]
    },
    {
      "cell_type": "code",
      "execution_count": null,
      "id": "87162f21",
      "metadata": {
        "id": "87162f21",
        "outputId": "59dc3523-d7bf-49a4-890c-55480ca5c155"
      },
      "outputs": [
        {
          "name": "stdout",
          "output_type": "stream",
          "text": [
            "Training Set score: 1.0\n",
            "Test Set score: 0.846486200705874\n"
          ]
        }
      ],
      "source": [
        "print(\"Training Set score:\",f1_score(y_pred = y_pred_,y_true = y_train,average = 'weighted'))\n",
        "print(\"Test Set score:\",f1_score(y_pred = y_pred,y_true = y_test,average = 'weighted'))"
      ]
    },
    {
      "cell_type": "markdown",
      "id": "7760a236",
      "metadata": {
        "id": "7760a236"
      },
      "source": [
        "#### 3.Gradient Boosting Classifier"
      ]
    },
    {
      "cell_type": "code",
      "execution_count": null,
      "id": "4af5f0bc",
      "metadata": {
        "id": "4af5f0bc",
        "outputId": "ead27a12-cedc-4c83-f68a-3e20c88ce452"
      },
      "outputs": [
        {
          "data": {
            "text/plain": [
              "GradientBoostingClassifier()"
            ]
          },
          "execution_count": 47,
          "metadata": {},
          "output_type": "execute_result"
        }
      ],
      "source": [
        "from sklearn.ensemble import GradientBoostingClassifier\n",
        "\n",
        "gbc = GradientBoostingClassifier()\n",
        "gbc.fit(X_train,y_train)"
      ]
    },
    {
      "cell_type": "code",
      "execution_count": null,
      "id": "dbffca6b",
      "metadata": {
        "id": "dbffca6b"
      },
      "outputs": [],
      "source": [
        "y_pred = gbc.predict(X_test)\n",
        "y_pred_ = gbc.predict(X_train)"
      ]
    },
    {
      "cell_type": "code",
      "execution_count": null,
      "id": "45a23241",
      "metadata": {
        "id": "45a23241",
        "outputId": "4fef5918-6d55-4917-bc91-e51a4594fda0"
      },
      "outputs": [
        {
          "name": "stdout",
          "output_type": "stream",
          "text": [
            "Training Set score: 1.0\n",
            "Test Set score: 0.8936954062168081\n"
          ]
        }
      ],
      "source": [
        "print(\"Training Set score:\",f1_score(y_pred = y_pred_,y_true = y_train,average = 'weighted'))\n",
        "print(\"Test Set score:\",f1_score(y_pred = y_pred,y_true = y_test,average = 'weighted'))"
      ]
    },
    {
      "cell_type": "markdown",
      "id": "41fd291f",
      "metadata": {
        "id": "41fd291f"
      },
      "source": [
        "#### 4. K Neighbors classifier"
      ]
    },
    {
      "cell_type": "code",
      "execution_count": null,
      "id": "1c9b337d",
      "metadata": {
        "id": "1c9b337d",
        "outputId": "98fa2307-b47d-464c-e461-30e46b3859f3"
      },
      "outputs": [
        {
          "data": {
            "text/plain": [
              "KNeighborsClassifier()"
            ]
          },
          "execution_count": 50,
          "metadata": {},
          "output_type": "execute_result"
        }
      ],
      "source": [
        "from sklearn.neighbors import KNeighborsClassifier\n",
        "\n",
        "Kn = KNeighborsClassifier()\n",
        "Kn.fit(X_train,y_train)"
      ]
    },
    {
      "cell_type": "code",
      "execution_count": null,
      "id": "fca93e83",
      "metadata": {
        "id": "fca93e83"
      },
      "outputs": [],
      "source": [
        "y_pred = Kn.predict(X_test)\n",
        "y_pred_ = Kn.predict(X_train)"
      ]
    },
    {
      "cell_type": "code",
      "execution_count": null,
      "id": "5b98d095",
      "metadata": {
        "id": "5b98d095",
        "outputId": "5ce103ea-c438-4e63-e3c7-88cc36cd175a"
      },
      "outputs": [
        {
          "name": "stdout",
          "output_type": "stream",
          "text": [
            "Training Set score: 0.9549692098005331\n",
            "Test Set score: 0.926966385529617\n"
          ]
        }
      ],
      "source": [
        "print(\"Training Set score:\",f1_score(y_pred = y_pred_,y_true = y_train,average = 'weighted'))\n",
        "print(\"Test Set score:\",f1_score(y_pred = y_pred,y_true = y_test,average = 'weighted'))"
      ]
    },
    {
      "cell_type": "code",
      "execution_count": null,
      "id": "af6ce10a",
      "metadata": {
        "id": "af6ce10a"
      },
      "outputs": [],
      "source": [
        "# Most models are overfitting,but K Neigbors Classifier seems to be the \"Just right\" model so we go qith it"
      ]
    },
    {
      "cell_type": "code",
      "execution_count": null,
      "id": "0599b469",
      "metadata": {
        "id": "0599b469"
      },
      "outputs": [],
      "source": [
        "train_scores = []\n",
        "test_scores = []\n",
        "\n",
        "def best_features(model):\n",
        "    for i in range(3,35):\n",
        "        slf = SelectKBest(score_func=chi2,k = i)\n",
        "        X_new_train = slf.fit_transform(X_train,y_train)\n",
        "        X_new_test = slf.transform(X_test)\n",
        "        \n",
        "        selected_columns = X_train.columns[slf.get_support(indices = True)]\n",
        "        new_Xtrain =pd.DataFrame(X_new_train,columns = selected_columns)\n",
        "        new_Xtest = pd.DataFrame(X_new_test,columns = selected_columns)\n",
        "        \n",
        "        model.fit(new_Xtrain,y_train)\n",
        "        \n",
        "        y_pred = model.predict(new_Xtest)\n",
        "        y_pred_ = model.predict(new_Xtrain)\n",
        "        \n",
        "        train_scores.append(f1_score(y_pred = y_pred_,y_true = y_train,average = 'weighted'))\n",
        "        test_scores.append(f1_score(y_pred = y_pred,y_true = y_test,average = 'weighted'))\n",
        "        \n",
        "    return train_scores,test_scores\n",
        "        \n",
        "        "
      ]
    },
    {
      "cell_type": "code",
      "execution_count": null,
      "id": "15355c3b",
      "metadata": {
        "id": "15355c3b"
      },
      "outputs": [],
      "source": [
        "model = KNeighborsClassifier()\n",
        "train_scores,test_scores = best_features(model)"
      ]
    },
    {
      "cell_type": "code",
      "execution_count": null,
      "id": "4250248c",
      "metadata": {
        "id": "4250248c",
        "outputId": "fd2fb864-3ed3-4ffd-ea94-c9e304e61b91"
      },
      "outputs": [
        {
          "data": {
            "image/png": "[encoded data removed]",
            "text/plain": [
              "<Figure size 1152x432 with 1 Axes>"
            ]
          },
          "metadata": {},
          "output_type": "display_data"
        }
      ],
      "source": [
        "plt.style.use('ggplot')\n",
        "plt.figure(figsize = (16,6))\n",
        "sns.lineplot(x = np.arange(3,35),y = train_scores,label = 'Train Scores')\n",
        "sns.lineplot(x = np.arange(3,35),y = test_scores,label = 'Train Scores')\n",
        "plt.xticks(np.arange(0,35))\n",
        "plt.xlabel(\"No of Features\",fontsize = 15)\n",
        "plt.ylabel(\"F1 Scores\",fontsize = 15)\n",
        "plt.show()\n"
      ]
    },
    {
      "cell_type": "code",
      "execution_count": null,
      "id": "3dbf29ca",
      "metadata": {
        "id": "3dbf29ca",
        "outputId": "1d89630f-0341-46de-99b9-700e1611c492"
      },
      "outputs": [
        {
          "name": "stdout",
          "output_type": "stream",
          "text": [
            "Training Set score: 0.9549692098005331\n",
            "Test Set Score: 0.926966385529617\n"
          ]
        }
      ],
      "source": [
        "# Let go with 12 best features\n",
        "slf = SelectKBest(score_func=chi2,k = 12)\n",
        "X_new_train = slf.fit_transform(X_train,y_train)\n",
        "X_new_test = slf.transform(X_test)\n",
        "        \n",
        "selected_columns = X_train.columns[slf.get_support(indices = True)]\n",
        "new_Xtrain =pd.DataFrame(X_new_train,columns = selected_columns)\n",
        "new_Xtest = pd.DataFrame(X_new_test,columns = selected_columns)\n",
        "        \n",
        "model.fit(new_Xtrain,y_train)\n",
        "        \n",
        "y_pred = model.predict(new_Xtest)\n",
        "y_pred_ = model.predict(new_Xtrain)\n",
        "        \n",
        "print(\"Training Set score:\",(f1_score(y_pred = y_pred_,y_true = y_train,average = 'weighted')))\n",
        "print(\"Test Set Score:\",(f1_score(y_pred = y_pred,y_true = y_test,average = 'weighted')))"
      ]
    },
    {
      "cell_type": "code",
      "execution_count": null,
      "id": "d2190809",
      "metadata": {
        "id": "d2190809"
      },
      "outputs": [],
      "source": [
        ""
      ]
    }
  ],
  "metadata": {
    "kernelspec": {
      "display_name": "Python 3",
      "language": "python",
      "name": "python3"
    },
    "language_info": {
      "codemirror_mode": {
        "name": "ipython",
        "version": 3
      },
      "file_extension": ".py",
      "mimetype": "text/x-python",
      "name": "python",
      "nbconvert_exporter": "python",
      "pygments_lexer": "ipython3",
      "version": "3.8.8"
    },
    "colab": {
      "name": "Mobile Price Prediction Dataset.ipynb",
      "provenance": [],
      "include_colab_link": true
    }
  },
  "nbformat": 4,
  "nbformat_minor": 5
}